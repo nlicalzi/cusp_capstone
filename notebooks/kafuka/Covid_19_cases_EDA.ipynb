{
  "nbformat": 4,
  "nbformat_minor": 0,
  "metadata": {
    "colab": {
      "name": "Covid-19_data_analysis.ipynb",
      "provenance": [],
      "collapsed_sections": []
    },
    "kernelspec": {
      "name": "python3",
      "display_name": "Python 3"
    }
  },
  "cells": [
    {
      "cell_type": "code",
      "metadata": {
        "id": "asHIIGm0MvUW",
        "colab_type": "code",
        "outputId": "f1893050-0420-4c14-b5f2-fe4e365ba1c8",
        "colab": {
          "base_uri": "https://localhost:8080/",
          "height": 122
        }
      },
      "source": [
        "from google.colab import drive\n",
        "drive.mount('/content/drive')"
      ],
      "execution_count": 0,
      "outputs": [
        {
          "output_type": "stream",
          "text": [
            "Go to this URL in a browser: https://accounts.google.com/o/oauth2/auth?client_id=947318989803-6bn6qk8qdgf4n4g3pfee6491hc0brc4i.apps.googleusercontent.com&redirect_uri=urn%3aietf%3awg%3aoauth%3a2.0%3aoob&response_type=code&scope=email%20https%3a%2f%2fwww.googleapis.com%2fauth%2fdocs.test%20https%3a%2f%2fwww.googleapis.com%2fauth%2fdrive%20https%3a%2f%2fwww.googleapis.com%2fauth%2fdrive.photos.readonly%20https%3a%2f%2fwww.googleapis.com%2fauth%2fpeopleapi.readonly\n",
            "\n",
            "Enter your authorization code:\n",
            "··········\n",
            "Mounted at /content/drive\n"
          ],
          "name": "stdout"
        }
      ]
    },
    {
      "cell_type": "code",
      "metadata": {
        "id": "lItqyOilN61Z",
        "colab_type": "code",
        "outputId": "c7e88e16-c098-4990-f126-730aa7bc2184",
        "colab": {
          "base_uri": "https://localhost:8080/",
          "height": 34
        }
      },
      "source": [
        "!ls"
      ],
      "execution_count": 0,
      "outputs": [
        {
          "output_type": "stream",
          "text": [
            "sample_data\n"
          ],
          "name": "stdout"
        }
      ]
    },
    {
      "cell_type": "code",
      "metadata": {
        "id": "qlzdvES1N63-",
        "colab_type": "code",
        "outputId": "a14c3ce0-6724-4664-ce11-6d4558d513ad",
        "colab": {
          "base_uri": "https://localhost:8080/",
          "height": 34
        }
      },
      "source": [
        "%cd drive/My\\ Drive/data"
      ],
      "execution_count": 0,
      "outputs": [
        {
          "output_type": "stream",
          "text": [
            "/content/drive/My Drive/data\n"
          ],
          "name": "stdout"
        }
      ]
    },
    {
      "cell_type": "code",
      "metadata": {
        "id": "zD6l6Fa4N7Bq",
        "colab_type": "code",
        "outputId": "7069028c-11c8-48f3-e464-1fd68928e7bc",
        "colab": {
          "base_uri": "https://localhost:8080/",
          "height": 51
        }
      },
      "source": [
        "!ls"
      ],
      "execution_count": 0,
      "outputs": [
        {
          "output_type": "stream",
          "text": [
            " train_dataloader_final.csv  'TRAINING.zip (Unzipped Files)'\n",
            " TRAINING\t\t      validate_dataloader_final.csv\n"
          ],
          "name": "stdout"
        }
      ]
    },
    {
      "cell_type": "code",
      "metadata": {
        "id": "rXaqMMgiOiS9",
        "colab_type": "code",
        "outputId": "729ebf3c-b0c5-4e80-f7d2-cd139f6b2668",
        "colab": {
          "base_uri": "https://localhost:8080/",
          "height": 136
        }
      },
      "source": [
        "! git clone https://github.com/thecityny/covid-19-nyc-data.git"
      ],
      "execution_count": 0,
      "outputs": [
        {
          "output_type": "stream",
          "text": [
            "Cloning into 'covid-19-nyc-data'...\n",
            "remote: Enumerating objects: 125, done.\u001b[K\n",
            "remote: Counting objects: 100% (125/125), done.\u001b[K\n",
            "remote: Compressing objects: 100% (69/69), done.\u001b[K\n",
            "remote: Total 125 (delta 84), reused 97 (delta 56), pack-reused 0\u001b[K\n",
            "Receiving objects: 100% (125/125), 84.23 KiB | 3.51 MiB/s, done.\n",
            "Resolving deltas: 100% (84/84), done.\n"
          ],
          "name": "stdout"
        }
      ]
    },
    {
      "cell_type": "code",
      "metadata": {
        "id": "QDE0afOiOiV_",
        "colab_type": "code",
        "colab": {}
      },
      "source": [
        "import pandas as pd\n",
        "import numpy as np"
      ],
      "execution_count": 0,
      "outputs": []
    },
    {
      "cell_type": "code",
      "metadata": {
        "id": "4RcMzq94Oigo",
        "colab_type": "code",
        "colab": {}
      },
      "source": [
        "zcta_data = pd.read_csv(\"covid-19-nyc-data/zcta.csv\")"
      ],
      "execution_count": 0,
      "outputs": []
    },
    {
      "cell_type": "code",
      "metadata": {
        "id": "0eT_uuU9PLjS",
        "colab_type": "code",
        "outputId": "ced97301-ef47-4b72-f03b-10ca1c505c4f",
        "colab": {
          "base_uri": "https://localhost:8080/",
          "height": 204
        }
      },
      "source": [
        "zcta_data.tail()"
      ],
      "execution_count": 0,
      "outputs": [
        {
          "output_type": "execute_result",
          "data": {
            "text/html": [
              "<div>\n",
              "<style scoped>\n",
              "    .dataframe tbody tr th:only-of-type {\n",
              "        vertical-align: middle;\n",
              "    }\n",
              "\n",
              "    .dataframe tbody tr th {\n",
              "        vertical-align: top;\n",
              "    }\n",
              "\n",
              "    .dataframe thead th {\n",
              "        text-align: right;\n",
              "    }\n",
              "</style>\n",
              "<table border=\"1\" class=\"dataframe\">\n",
              "  <thead>\n",
              "    <tr style=\"text-align: right;\">\n",
              "      <th></th>\n",
              "      <th>timestamp</th>\n",
              "      <th>zcta</th>\n",
              "      <th>positive</th>\n",
              "      <th>total</th>\n",
              "    </tr>\n",
              "  </thead>\n",
              "  <tbody>\n",
              "    <tr>\n",
              "      <th>3914</th>\n",
              "      <td>2020-04-24T04:00:00Z</td>\n",
              "      <td>11691.0</td>\n",
              "      <td>1690</td>\n",
              "      <td>2746</td>\n",
              "    </tr>\n",
              "    <tr>\n",
              "      <th>3915</th>\n",
              "      <td>2020-04-24T04:00:00Z</td>\n",
              "      <td>11692.0</td>\n",
              "      <td>446</td>\n",
              "      <td>777</td>\n",
              "    </tr>\n",
              "    <tr>\n",
              "      <th>3916</th>\n",
              "      <td>2020-04-24T04:00:00Z</td>\n",
              "      <td>11693.0</td>\n",
              "      <td>271</td>\n",
              "      <td>512</td>\n",
              "    </tr>\n",
              "    <tr>\n",
              "      <th>3917</th>\n",
              "      <td>2020-04-24T04:00:00Z</td>\n",
              "      <td>11694.0</td>\n",
              "      <td>540</td>\n",
              "      <td>1051</td>\n",
              "    </tr>\n",
              "    <tr>\n",
              "      <th>3918</th>\n",
              "      <td>2020-04-24T04:00:00Z</td>\n",
              "      <td>11697.0</td>\n",
              "      <td>78</td>\n",
              "      <td>171</td>\n",
              "    </tr>\n",
              "  </tbody>\n",
              "</table>\n",
              "</div>"
            ],
            "text/plain": [
              "                 timestamp     zcta  positive  total\n",
              "3914  2020-04-24T04:00:00Z  11691.0      1690   2746\n",
              "3915  2020-04-24T04:00:00Z  11692.0       446    777\n",
              "3916  2020-04-24T04:00:00Z  11693.0       271    512\n",
              "3917  2020-04-24T04:00:00Z  11694.0       540   1051\n",
              "3918  2020-04-24T04:00:00Z  11697.0        78    171"
            ]
          },
          "metadata": {
            "tags": []
          },
          "execution_count": 14
        }
      ]
    },
    {
      "cell_type": "code",
      "metadata": {
        "id": "uBJmdG9XPLmY",
        "colab_type": "code",
        "outputId": "993b0b17-66fe-49e5-deaa-a9d41a9737cc",
        "colab": {
          "base_uri": "https://localhost:8080/",
          "height": 34
        }
      },
      "source": [
        "zcta_data.shape"
      ],
      "execution_count": 0,
      "outputs": [
        {
          "output_type": "execute_result",
          "data": {
            "text/plain": [
              "(3919, 4)"
            ]
          },
          "metadata": {
            "tags": []
          },
          "execution_count": 11
        }
      ]
    },
    {
      "cell_type": "code",
      "metadata": {
        "id": "wx6nqlxavOun",
        "colab_type": "code",
        "outputId": "207037c8-e686-4b3f-a124-98423b1f23ef",
        "colab": {
          "base_uri": "https://localhost:8080/",
          "height": 68
        }
      },
      "source": [
        "!ls"
      ],
      "execution_count": 0,
      "outputs": [
        {
          "output_type": "stream",
          "text": [
            " covid-19-nyc-data\t     'TRAINING.zip (Unzipped Files)'\n",
            " train_dataloader_final.csv   validate_dataloader_final.csv\n",
            " TRAINING\n"
          ],
          "name": "stdout"
        }
      ]
    },
    {
      "cell_type": "code",
      "metadata": {
        "id": "pVTyO2xhvKRi",
        "colab_type": "code",
        "colab": {}
      },
      "source": [
        "zcta_pop_data = pd.read_csv(\"covid-19-nyc-data/zipcodewithpop.csv\")"
      ],
      "execution_count": 0,
      "outputs": []
    },
    {
      "cell_type": "code",
      "metadata": {
        "id": "kQsbcVitwF3-",
        "colab_type": "code",
        "outputId": "da0a2503-2813-48b5-a08b-7ce2b59fab75",
        "colab": {
          "base_uri": "https://localhost:8080/",
          "height": 204
        }
      },
      "source": [
        "zcta_pop_data.head()"
      ],
      "execution_count": 0,
      "outputs": [
        {
          "output_type": "execute_result",
          "data": {
            "text/html": [
              "<div>\n",
              "<style scoped>\n",
              "    .dataframe tbody tr th:only-of-type {\n",
              "        vertical-align: middle;\n",
              "    }\n",
              "\n",
              "    .dataframe tbody tr th {\n",
              "        vertical-align: top;\n",
              "    }\n",
              "\n",
              "    .dataframe thead th {\n",
              "        text-align: right;\n",
              "    }\n",
              "</style>\n",
              "<table border=\"1\" class=\"dataframe\">\n",
              "  <thead>\n",
              "    <tr style=\"text-align: right;\">\n",
              "      <th></th>\n",
              "      <th>Rank</th>\n",
              "      <th>Zip Code</th>\n",
              "      <th>Population</th>\n",
              "    </tr>\n",
              "  </thead>\n",
              "  <tbody>\n",
              "    <tr>\n",
              "      <th>0</th>\n",
              "      <td>1</td>\n",
              "      <td>11368</td>\n",
              "      <td>112,425</td>\n",
              "    </tr>\n",
              "    <tr>\n",
              "      <th>1</th>\n",
              "      <td>2</td>\n",
              "      <td>11385</td>\n",
              "      <td>106,717</td>\n",
              "    </tr>\n",
              "    <tr>\n",
              "      <th>2</th>\n",
              "      <td>3</td>\n",
              "      <td>10467</td>\n",
              "      <td>103,732</td>\n",
              "    </tr>\n",
              "    <tr>\n",
              "      <th>3</th>\n",
              "      <td>4</td>\n",
              "      <td>11211</td>\n",
              "      <td>102,624</td>\n",
              "    </tr>\n",
              "    <tr>\n",
              "      <th>4</th>\n",
              "      <td>5</td>\n",
              "      <td>11236</td>\n",
              "      <td>100,331</td>\n",
              "    </tr>\n",
              "  </tbody>\n",
              "</table>\n",
              "</div>"
            ],
            "text/plain": [
              "  Rank Zip Code Population\n",
              "0    1    11368    112,425\n",
              "1    2    11385    106,717\n",
              "2    3    10467    103,732\n",
              "3    4    11211    102,624\n",
              "4    5    11236    100,331"
            ]
          },
          "metadata": {
            "tags": []
          },
          "execution_count": 27
        }
      ]
    },
    {
      "cell_type": "code",
      "metadata": {
        "id": "xaP22WFGwF6u",
        "colab_type": "code",
        "outputId": "1a470560-e368-4a9b-a29f-0cb80a771061",
        "colab": {
          "base_uri": "https://localhost:8080/",
          "height": 80
        }
      },
      "source": [
        "zcta_pop_data[zcta_pop_data['Zip Code'] == '10002']"
      ],
      "execution_count": 0,
      "outputs": [
        {
          "output_type": "execute_result",
          "data": {
            "text/html": [
              "<div>\n",
              "<style scoped>\n",
              "    .dataframe tbody tr th:only-of-type {\n",
              "        vertical-align: middle;\n",
              "    }\n",
              "\n",
              "    .dataframe tbody tr th {\n",
              "        vertical-align: top;\n",
              "    }\n",
              "\n",
              "    .dataframe thead th {\n",
              "        text-align: right;\n",
              "    }\n",
              "</style>\n",
              "<table border=\"1\" class=\"dataframe\">\n",
              "  <thead>\n",
              "    <tr style=\"text-align: right;\">\n",
              "      <th></th>\n",
              "      <th>Rank</th>\n",
              "      <th>Zip Code</th>\n",
              "      <th>Population</th>\n",
              "    </tr>\n",
              "  </thead>\n",
              "  <tbody>\n",
              "    <tr>\n",
              "      <th>34</th>\n",
              "      <td>35</td>\n",
              "      <td>10002</td>\n",
              "      <td>74,993</td>\n",
              "    </tr>\n",
              "  </tbody>\n",
              "</table>\n",
              "</div>"
            ],
            "text/plain": [
              "   Rank Zip Code Population\n",
              "34   35    10002     74,993"
            ]
          },
          "metadata": {
            "tags": []
          },
          "execution_count": 83
        }
      ]
    },
    {
      "cell_type": "markdown",
      "metadata": {
        "id": "2tVFE9ypvTc6",
        "colab_type": "text"
      },
      "source": [
        ""
      ]
    },
    {
      "cell_type": "code",
      "metadata": {
        "id": "Scx2ZYqKqg9G",
        "colab_type": "code",
        "colab": {}
      },
      "source": [
        "# Time Sqaure and Theater Zone"
      ],
      "execution_count": 0,
      "outputs": []
    },
    {
      "cell_type": "code",
      "metadata": {
        "id": "cS45WEp1PLpC",
        "colab_type": "code",
        "colab": {}
      },
      "source": [
        "T1 = zcta_data[zcta_data[\"zcta\"] == 10019]"
      ],
      "execution_count": 0,
      "outputs": []
    },
    {
      "cell_type": "code",
      "metadata": {
        "id": "fIYhdX29waJW",
        "colab_type": "code",
        "outputId": "e461e828-3972-4a99-ea52-d300dc25d983",
        "colab": {
          "base_uri": "https://localhost:8080/",
          "height": 139
        }
      },
      "source": [
        "T1['Population'] = 43703"
      ],
      "execution_count": 0,
      "outputs": [
        {
          "output_type": "stream",
          "text": [
            "/usr/local/lib/python3.6/dist-packages/ipykernel_launcher.py:1: SettingWithCopyWarning: \n",
            "A value is trying to be set on a copy of a slice from a DataFrame.\n",
            "Try using .loc[row_indexer,col_indexer] = value instead\n",
            "\n",
            "See the caveats in the documentation: https://pandas.pydata.org/pandas-docs/stable/user_guide/indexing.html#returning-a-view-versus-a-copy\n",
            "  \"\"\"Entry point for launching an IPython kernel.\n"
          ],
          "name": "stderr"
        }
      ]
    },
    {
      "cell_type": "code",
      "metadata": {
        "id": "RItr4HYTo0Dp",
        "colab_type": "code",
        "colab": {}
      },
      "source": [
        "T2 = zcta_data[zcta_data[\"zcta\"] == 10036]"
      ],
      "execution_count": 0,
      "outputs": []
    },
    {
      "cell_type": "code",
      "metadata": {
        "id": "99rsx4QrqrO3",
        "colab_type": "code",
        "outputId": "fed7bdad-7f8f-4c21-c0ec-e1b7f70d67d3",
        "colab": {
          "base_uri": "https://localhost:8080/",
          "height": 139
        }
      },
      "source": [
        "T2['Population'] = 27428"
      ],
      "execution_count": 0,
      "outputs": [
        {
          "output_type": "stream",
          "text": [
            "/usr/local/lib/python3.6/dist-packages/ipykernel_launcher.py:1: SettingWithCopyWarning: \n",
            "A value is trying to be set on a copy of a slice from a DataFrame.\n",
            "Try using .loc[row_indexer,col_indexer] = value instead\n",
            "\n",
            "See the caveats in the documentation: https://pandas.pydata.org/pandas-docs/stable/user_guide/indexing.html#returning-a-view-versus-a-copy\n",
            "  \"\"\"Entry point for launching an IPython kernel.\n"
          ],
          "name": "stderr"
        }
      ]
    },
    {
      "cell_type": "code",
      "metadata": {
        "id": "kz3e9Ni3qs5_",
        "colab_type": "code",
        "colab": {}
      },
      "source": [
        "Merge = np.array(T1['total']) + np.array(T2['total'])\n",
        "Merge_total = np.array(T1['Population']) + np.array(T2['Population'])"
      ],
      "execution_count": 0,
      "outputs": []
    },
    {
      "cell_type": "code",
      "metadata": {
        "id": "oLRN5RahxJBQ",
        "colab_type": "code",
        "outputId": "fd3e2ee8-ca1f-4c91-8368-b283a1c4d7c9",
        "colab": {
          "base_uri": "https://localhost:8080/",
          "height": 241
        }
      },
      "source": [
        "T1['Merge_total'] = Merge\n",
        "T1['Merge_population'] = Merge_total"
      ],
      "execution_count": 0,
      "outputs": [
        {
          "output_type": "stream",
          "text": [
            "/usr/local/lib/python3.6/dist-packages/ipykernel_launcher.py:1: SettingWithCopyWarning: \n",
            "A value is trying to be set on a copy of a slice from a DataFrame.\n",
            "Try using .loc[row_indexer,col_indexer] = value instead\n",
            "\n",
            "See the caveats in the documentation: https://pandas.pydata.org/pandas-docs/stable/user_guide/indexing.html#returning-a-view-versus-a-copy\n",
            "  \"\"\"Entry point for launching an IPython kernel.\n",
            "/usr/local/lib/python3.6/dist-packages/ipykernel_launcher.py:2: SettingWithCopyWarning: \n",
            "A value is trying to be set on a copy of a slice from a DataFrame.\n",
            "Try using .loc[row_indexer,col_indexer] = value instead\n",
            "\n",
            "See the caveats in the documentation: https://pandas.pydata.org/pandas-docs/stable/user_guide/indexing.html#returning-a-view-versus-a-copy\n",
            "  \n"
          ],
          "name": "stderr"
        }
      ]
    },
    {
      "cell_type": "code",
      "metadata": {
        "id": "MvoTdn1f0CaY",
        "colab_type": "code",
        "outputId": "54421030-d96e-4945-de0c-afc88962f1d5",
        "colab": {
          "base_uri": "https://localhost:8080/",
          "height": 139
        }
      },
      "source": [
        "T1['cases_ratio'] = T1.Merge_total / T1.Merge_population *100"
      ],
      "execution_count": 0,
      "outputs": [
        {
          "output_type": "stream",
          "text": [
            "/usr/local/lib/python3.6/dist-packages/ipykernel_launcher.py:1: SettingWithCopyWarning: \n",
            "A value is trying to be set on a copy of a slice from a DataFrame.\n",
            "Try using .loc[row_indexer,col_indexer] = value instead\n",
            "\n",
            "See the caveats in the documentation: https://pandas.pydata.org/pandas-docs/stable/user_guide/indexing.html#returning-a-view-versus-a-copy\n",
            "  \"\"\"Entry point for launching an IPython kernel.\n"
          ],
          "name": "stderr"
        }
      ]
    },
    {
      "cell_type": "code",
      "metadata": {
        "id": "nWlBa1MQ0Cc7",
        "colab_type": "code",
        "outputId": "360056bf-34c7-4ee8-c130-c6e353dab62b",
        "colab": {
          "base_uri": "https://localhost:8080/",
          "height": 309
        }
      },
      "source": [
        "T1.head()"
      ],
      "execution_count": 0,
      "outputs": [
        {
          "output_type": "execute_result",
          "data": {
            "text/html": [
              "<div>\n",
              "<style scoped>\n",
              "    .dataframe tbody tr th:only-of-type {\n",
              "        vertical-align: middle;\n",
              "    }\n",
              "\n",
              "    .dataframe tbody tr th {\n",
              "        vertical-align: top;\n",
              "    }\n",
              "\n",
              "    .dataframe thead th {\n",
              "        text-align: right;\n",
              "    }\n",
              "</style>\n",
              "<table border=\"1\" class=\"dataframe\">\n",
              "  <thead>\n",
              "    <tr style=\"text-align: right;\">\n",
              "      <th></th>\n",
              "      <th>timestamp</th>\n",
              "      <th>zcta</th>\n",
              "      <th>positive</th>\n",
              "      <th>total</th>\n",
              "      <th>Population</th>\n",
              "      <th>Merge_total</th>\n",
              "      <th>Merge_population</th>\n",
              "      <th>cases_ratio</th>\n",
              "      <th>date</th>\n",
              "    </tr>\n",
              "  </thead>\n",
              "  <tbody>\n",
              "    <tr>\n",
              "      <th>17</th>\n",
              "      <td>2020-03-31T04:00:00Z</td>\n",
              "      <td>10019.0</td>\n",
              "      <td>187</td>\n",
              "      <td>451</td>\n",
              "      <td>43703</td>\n",
              "      <td>726</td>\n",
              "      <td>71131</td>\n",
              "      <td>1.020652</td>\n",
              "      <td>2020-03-31</td>\n",
              "    </tr>\n",
              "    <tr>\n",
              "      <th>195</th>\n",
              "      <td>2020-04-03T04:00:00Z</td>\n",
              "      <td>10019.0</td>\n",
              "      <td>226</td>\n",
              "      <td>520</td>\n",
              "      <td>43703</td>\n",
              "      <td>851</td>\n",
              "      <td>71131</td>\n",
              "      <td>1.196384</td>\n",
              "      <td>2020-04-03</td>\n",
              "    </tr>\n",
              "    <tr>\n",
              "      <th>373</th>\n",
              "      <td>2020-04-04T04:00:00Z</td>\n",
              "      <td>10019.0</td>\n",
              "      <td>237</td>\n",
              "      <td>542</td>\n",
              "      <td>43703</td>\n",
              "      <td>888</td>\n",
              "      <td>71131</td>\n",
              "      <td>1.248401</td>\n",
              "      <td>2020-04-04</td>\n",
              "    </tr>\n",
              "    <tr>\n",
              "      <th>551</th>\n",
              "      <td>2020-04-05T04:00:00Z</td>\n",
              "      <td>10019.0</td>\n",
              "      <td>244</td>\n",
              "      <td>560</td>\n",
              "      <td>43703</td>\n",
              "      <td>915</td>\n",
              "      <td>71131</td>\n",
              "      <td>1.286359</td>\n",
              "      <td>2020-04-05</td>\n",
              "    </tr>\n",
              "    <tr>\n",
              "      <th>729</th>\n",
              "      <td>2020-04-07T04:00:00Z</td>\n",
              "      <td>10019.0</td>\n",
              "      <td>264</td>\n",
              "      <td>616</td>\n",
              "      <td>43703</td>\n",
              "      <td>1020</td>\n",
              "      <td>71131</td>\n",
              "      <td>1.433974</td>\n",
              "      <td>2020-04-07</td>\n",
              "    </tr>\n",
              "  </tbody>\n",
              "</table>\n",
              "</div>"
            ],
            "text/plain": [
              "                timestamp     zcta  ...  cases_ratio        date\n",
              "17   2020-03-31T04:00:00Z  10019.0  ...     1.020652  2020-03-31\n",
              "195  2020-04-03T04:00:00Z  10019.0  ...     1.196384  2020-04-03\n",
              "373  2020-04-04T04:00:00Z  10019.0  ...     1.248401  2020-04-04\n",
              "551  2020-04-05T04:00:00Z  10019.0  ...     1.286359  2020-04-05\n",
              "729  2020-04-07T04:00:00Z  10019.0  ...     1.433974  2020-04-07\n",
              "\n",
              "[5 rows x 9 columns]"
            ]
          },
          "metadata": {
            "tags": []
          },
          "execution_count": 75
        }
      ]
    },
    {
      "cell_type": "code",
      "metadata": {
        "id": "-Ey2YIxG0Cvp",
        "colab_type": "code",
        "outputId": "b3d2ed19-2ca5-4f9d-8cb7-393b5f74ce8f",
        "colab": {
          "base_uri": "https://localhost:8080/",
          "height": 139
        }
      },
      "source": [
        "T1['date'] = [x[:10] for x in T1['timestamp']]"
      ],
      "execution_count": 0,
      "outputs": [
        {
          "output_type": "stream",
          "text": [
            "/usr/local/lib/python3.6/dist-packages/ipykernel_launcher.py:1: SettingWithCopyWarning: \n",
            "A value is trying to be set on a copy of a slice from a DataFrame.\n",
            "Try using .loc[row_indexer,col_indexer] = value instead\n",
            "\n",
            "See the caveats in the documentation: https://pandas.pydata.org/pandas-docs/stable/user_guide/indexing.html#returning-a-view-versus-a-copy\n",
            "  \"\"\"Entry point for launching an IPython kernel.\n"
          ],
          "name": "stderr"
        }
      ]
    },
    {
      "cell_type": "code",
      "metadata": {
        "id": "mF4Xh5lb0-Ta",
        "colab_type": "code",
        "outputId": "8f5ea083-149a-481c-9ccf-c033dee7eba1",
        "colab": {
          "base_uri": "https://localhost:8080/",
          "height": 350
        }
      },
      "source": [
        "import matplotlib.pyplot as plt\n",
        "%matplotlib inline\n",
        "import matplotlib.ticker as mticker\n",
        "\n",
        "fig, ax = plt.subplots(figsize=(12,5))\n",
        "myLocator = mticker.MultipleLocator(7)\n",
        "ax.xaxis.set_major_locator(myLocator)\n",
        "ax.plot(T1.date, T1.cases_ratio, color='red', label = 'Accumulated Cases_ratio')\n",
        "ax.legend()\n",
        "ax.set(xlabel='date in 2020', ylabel='Cases_ratio',\n",
        "       title='Confirmed cases normalized by residents population for zip code 10019&10036 (Time Square and Theater Zone)')\n",
        "fig.show()"
      ],
      "execution_count": 0,
      "outputs": [
        {
          "output_type": "display_data",
          "data": {
            "image/png": "[encoded data removed]",
            "text/plain": [
              "<Figure size 864x360 with 1 Axes>"
            ]
          },
          "metadata": {
            "tags": [],
            "needs_background": "light"
          }
        }
      ]
    },
    {
      "cell_type": "code",
      "metadata": {
        "id": "nMHBb4sVqXUd",
        "colab_type": "code",
        "colab": {}
      },
      "source": [
        "# Lower East Side"
      ],
      "execution_count": 0,
      "outputs": []
    },
    {
      "cell_type": "code",
      "metadata": {
        "id": "dQxlmDT4pEMD",
        "colab_type": "code",
        "colab": {}
      },
      "source": [
        "T3 = zcta_data[zcta_data[\"zcta\"] == 10002]"
      ],
      "execution_count": 0,
      "outputs": []
    },
    {
      "cell_type": "code",
      "metadata": {
        "id": "xOQ7sajaqVDV",
        "colab_type": "code",
        "outputId": "33dd3ce4-38bb-4394-e341-dbcb2d9f3aa8",
        "colab": {
          "base_uri": "https://localhost:8080/",
          "height": 139
        }
      },
      "source": [
        "T3['Population'] = 74993"
      ],
      "execution_count": 0,
      "outputs": [
        {
          "output_type": "stream",
          "text": [
            "/usr/local/lib/python3.6/dist-packages/ipykernel_launcher.py:1: SettingWithCopyWarning: \n",
            "A value is trying to be set on a copy of a slice from a DataFrame.\n",
            "Try using .loc[row_indexer,col_indexer] = value instead\n",
            "\n",
            "See the caveats in the documentation: https://pandas.pydata.org/pandas-docs/stable/user_guide/indexing.html#returning-a-view-versus-a-copy\n",
            "  \"\"\"Entry point for launching an IPython kernel.\n"
          ],
          "name": "stderr"
        }
      ]
    },
    {
      "cell_type": "code",
      "metadata": {
        "id": "whQm6_s_2eBm",
        "colab_type": "code",
        "outputId": "fc37d864-7209-4b34-cd54-dbf78db88150",
        "colab": {
          "base_uri": "https://localhost:8080/",
          "height": 204
        }
      },
      "source": [
        "T3.tail()"
      ],
      "execution_count": 0,
      "outputs": [
        {
          "output_type": "execute_result",
          "data": {
            "text/html": [
              "<div>\n",
              "<style scoped>\n",
              "    .dataframe tbody tr th:only-of-type {\n",
              "        vertical-align: middle;\n",
              "    }\n",
              "\n",
              "    .dataframe tbody tr th {\n",
              "        vertical-align: top;\n",
              "    }\n",
              "\n",
              "    .dataframe thead th {\n",
              "        text-align: right;\n",
              "    }\n",
              "</style>\n",
              "<table border=\"1\" class=\"dataframe\">\n",
              "  <thead>\n",
              "    <tr style=\"text-align: right;\">\n",
              "      <th></th>\n",
              "      <th>timestamp</th>\n",
              "      <th>zcta</th>\n",
              "      <th>positive</th>\n",
              "      <th>total</th>\n",
              "      <th>Population</th>\n",
              "      <th>cases_ratio</th>\n",
              "      <th>date</th>\n",
              "    </tr>\n",
              "  </thead>\n",
              "  <tbody>\n",
              "    <tr>\n",
              "      <th>3031</th>\n",
              "      <td>2020-04-20T04:00:00Z</td>\n",
              "      <td>10002.0</td>\n",
              "      <td>716</td>\n",
              "      <td>1384</td>\n",
              "      <td>74993</td>\n",
              "      <td>0.954756</td>\n",
              "      <td>2020-04-20</td>\n",
              "    </tr>\n",
              "    <tr>\n",
              "      <th>3209</th>\n",
              "      <td>2020-04-21T04:00:00Z</td>\n",
              "      <td>10002.0</td>\n",
              "      <td>729</td>\n",
              "      <td>1419</td>\n",
              "      <td>74993</td>\n",
              "      <td>0.972091</td>\n",
              "      <td>2020-04-21</td>\n",
              "    </tr>\n",
              "    <tr>\n",
              "      <th>3387</th>\n",
              "      <td>2020-04-22T04:00:00Z</td>\n",
              "      <td>10002.0</td>\n",
              "      <td>733</td>\n",
              "      <td>1427</td>\n",
              "      <td>74993</td>\n",
              "      <td>0.977425</td>\n",
              "      <td>2020-04-22</td>\n",
              "    </tr>\n",
              "    <tr>\n",
              "      <th>3565</th>\n",
              "      <td>2020-04-23T04:00:00Z</td>\n",
              "      <td>10002.0</td>\n",
              "      <td>756</td>\n",
              "      <td>1498</td>\n",
              "      <td>74993</td>\n",
              "      <td>1.008094</td>\n",
              "      <td>2020-04-23</td>\n",
              "    </tr>\n",
              "    <tr>\n",
              "      <th>3743</th>\n",
              "      <td>2020-04-24T04:00:00Z</td>\n",
              "      <td>10002.0</td>\n",
              "      <td>774</td>\n",
              "      <td>1561</td>\n",
              "      <td>74993</td>\n",
              "      <td>1.032096</td>\n",
              "      <td>2020-04-24</td>\n",
              "    </tr>\n",
              "  </tbody>\n",
              "</table>\n",
              "</div>"
            ],
            "text/plain": [
              "                 timestamp     zcta  ...  cases_ratio        date\n",
              "3031  2020-04-20T04:00:00Z  10002.0  ...     0.954756  2020-04-20\n",
              "3209  2020-04-21T04:00:00Z  10002.0  ...     0.972091  2020-04-21\n",
              "3387  2020-04-22T04:00:00Z  10002.0  ...     0.977425  2020-04-22\n",
              "3565  2020-04-23T04:00:00Z  10002.0  ...     1.008094  2020-04-23\n",
              "3743  2020-04-24T04:00:00Z  10002.0  ...     1.032096  2020-04-24\n",
              "\n",
              "[5 rows x 7 columns]"
            ]
          },
          "metadata": {
            "tags": []
          },
          "execution_count": 91
        }
      ]
    },
    {
      "cell_type": "code",
      "metadata": {
        "id": "1HOpkU8u2eEQ",
        "colab_type": "code",
        "outputId": "f4a2c40f-7c7b-4810-a201-2504d4c96540",
        "colab": {
          "base_uri": "https://localhost:8080/",
          "height": 139
        }
      },
      "source": [
        "T3['cases_ratio'] = T3.positive / T3.Population *100"
      ],
      "execution_count": 0,
      "outputs": [
        {
          "output_type": "stream",
          "text": [
            "/usr/local/lib/python3.6/dist-packages/ipykernel_launcher.py:1: SettingWithCopyWarning: \n",
            "A value is trying to be set on a copy of a slice from a DataFrame.\n",
            "Try using .loc[row_indexer,col_indexer] = value instead\n",
            "\n",
            "See the caveats in the documentation: https://pandas.pydata.org/pandas-docs/stable/user_guide/indexing.html#returning-a-view-versus-a-copy\n",
            "  \"\"\"Entry point for launching an IPython kernel.\n"
          ],
          "name": "stderr"
        }
      ]
    },
    {
      "cell_type": "code",
      "metadata": {
        "id": "Jn2Haxdh27jh",
        "colab_type": "code",
        "outputId": "4a87593d-858d-4acf-cabd-36d8574d705a",
        "colab": {
          "base_uri": "https://localhost:8080/",
          "height": 139
        }
      },
      "source": [
        "T3['date'] = [x[:10] for x in T3['timestamp']]"
      ],
      "execution_count": 0,
      "outputs": [
        {
          "output_type": "stream",
          "text": [
            "/usr/local/lib/python3.6/dist-packages/ipykernel_launcher.py:1: SettingWithCopyWarning: \n",
            "A value is trying to be set on a copy of a slice from a DataFrame.\n",
            "Try using .loc[row_indexer,col_indexer] = value instead\n",
            "\n",
            "See the caveats in the documentation: https://pandas.pydata.org/pandas-docs/stable/user_guide/indexing.html#returning-a-view-versus-a-copy\n",
            "  \"\"\"Entry point for launching an IPython kernel.\n"
          ],
          "name": "stderr"
        }
      ]
    },
    {
      "cell_type": "code",
      "metadata": {
        "id": "Q4cSefNu2_Fc",
        "colab_type": "code",
        "outputId": "0dda5988-1d9e-489e-810e-a19e0470add6",
        "colab": {
          "base_uri": "https://localhost:8080/",
          "height": 350
        }
      },
      "source": [
        "import matplotlib.pyplot as plt\n",
        "%matplotlib inline\n",
        "import matplotlib.ticker as mticker\n",
        "\n",
        "fig, ax = plt.subplots(figsize=(12,5))\n",
        "myLocator = mticker.MultipleLocator(7)\n",
        "ax.xaxis.set_major_locator(myLocator)\n",
        "ax.plot(T3.date, T3.cases_ratio, color='red', label = 'Daily Cases_ratio')\n",
        "ax.legend()\n",
        "ax.set(xlabel='date in 2020', ylabel='Daily Cases_ratio',\n",
        "       title='Daily confirmed cases normalized by residents population for zip code 10002 (Lower East Side/ China Town Zone)')\n",
        "fig.show()"
      ],
      "execution_count": 0,
      "outputs": [
        {
          "output_type": "display_data",
          "data": {
            "image/png": "[encoded data removed]",
            "text/plain": [
              "<Figure size 864x360 with 1 Axes>"
            ]
          },
          "metadata": {
            "tags": [],
            "needs_background": "light"
          }
        }
      ]
    },
    {
      "cell_type": "code",
      "metadata": {
        "id": "cExiP96s2_nf",
        "colab_type": "code",
        "colab": {}
      },
      "source": [
        ""
      ],
      "execution_count": 0,
      "outputs": []
    }
  ]
}