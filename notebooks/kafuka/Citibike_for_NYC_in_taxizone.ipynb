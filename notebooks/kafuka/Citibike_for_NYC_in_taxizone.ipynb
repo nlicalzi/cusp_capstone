{
  "nbformat": 4,
  "nbformat_minor": 0,
  "metadata": {
    "colab": {
      "name": "Citibike for NYC in taxizone.ipynb",
      "provenance": [],
      "collapsed_sections": []
    },
    "kernelspec": {
      "name": "python3",
      "display_name": "Python 3"
    }
  },
  "cells": [
    {
      "cell_type": "code",
      "metadata": {
        "id": "o3q_6m0Y6XeM",
        "colab_type": "code",
        "colab": {}
      },
      "source": [
        "import pandas as pd\n",
        "import csv\n",
        "import requests\n",
        "from contextlib import closing\n",
        "import numpy as np"
      ],
      "execution_count": null,
      "outputs": []
    },
    {
      "cell_type": "code",
      "metadata": {
        "id": "E34Ecn-g6gZi",
        "colab_type": "code",
        "colab": {}
      },
      "source": [
        "import datetime\n",
        "import dateutil\n",
        "from datetime import datetime, timedelta, time, date"
      ],
      "execution_count": null,
      "outputs": []
    },
    {
      "cell_type": "code",
      "metadata": {
        "id": "utJ-fmFIfjLf",
        "colab_type": "code",
        "colab": {}
      },
      "source": [
        "citibike_2001 = pd.read_csv('https://s3.amazonaws.com/tripdata/202001-citibike-tripdata.csv.zip')"
      ],
      "execution_count": null,
      "outputs": []
    },
    {
      "cell_type": "code",
      "metadata": {
        "id": "9RIMFa56sjA4",
        "colab_type": "code",
        "colab": {}
      },
      "source": [
        "citibike_2002 = pd.read_csv('https://s3.amazonaws.com/tripdata/202002-citibike-tripdata.csv.zip')\n",
        "citibike_2003 = pd.read_csv('https://s3.amazonaws.com/tripdata/202003-citibike-tripdata.csv.zip')\n",
        "citibike_2004 = pd.read_csv('https://s3.amazonaws.com/tripdata/202004-citibike-tripdata.csv.zip')"
      ],
      "execution_count": null,
      "outputs": []
    },
    {
      "cell_type": "code",
      "metadata": {
        "id": "0uywZ12BsjO4",
        "colab_type": "code",
        "colab": {}
      },
      "source": [
        "citibike_20 = pd.concat([citibike_2001,citibike_2002,citibike_2003,citibike_2004])"
      ],
      "execution_count": null,
      "outputs": []
    },
    {
      "cell_type": "code",
      "metadata": {
        "id": "e3RbsX5NuTij",
        "colab_type": "code",
        "colab": {
          "base_uri": "https://localhost:8080/",
          "height": 34
        },
        "outputId": "45b715d6-bfc3-4b46-d8c9-166b4b7752a6"
      },
      "source": [
        "citibike_20.shape"
      ],
      "execution_count": null,
      "outputs": [
        {
          "output_type": "execute_result",
          "data": {
            "text/plain": [
              "(4138645, 15)"
            ]
          },
          "metadata": {
            "tags": []
          },
          "execution_count": 8
        }
      ]
    },
    {
      "cell_type": "code",
      "metadata": {
        "id": "t4rXEA8nrmwU",
        "colab_type": "code",
        "colab": {
          "base_uri": "https://localhost:8080/",
          "height": 340
        },
        "outputId": "524ba49e-6cd6-44d2-9791-70645517a05f"
      },
      "source": [
        "citibike_20.tail()"
      ],
      "execution_count": null,
      "outputs": [
        {
          "output_type": "execute_result",
          "data": {
            "text/html": [
              "<div>\n",
              "<style scoped>\n",
              "    .dataframe tbody tr th:only-of-type {\n",
              "        vertical-align: middle;\n",
              "    }\n",
              "\n",
              "    .dataframe tbody tr th {\n",
              "        vertical-align: top;\n",
              "    }\n",
              "\n",
              "    .dataframe thead th {\n",
              "        text-align: right;\n",
              "    }\n",
              "</style>\n",
              "<table border=\"1\" class=\"dataframe\">\n",
              "  <thead>\n",
              "    <tr style=\"text-align: right;\">\n",
              "      <th></th>\n",
              "      <th>tripduration</th>\n",
              "      <th>starttime</th>\n",
              "      <th>stoptime</th>\n",
              "      <th>start station id</th>\n",
              "      <th>start station name</th>\n",
              "      <th>start station latitude</th>\n",
              "      <th>start station longitude</th>\n",
              "      <th>end station id</th>\n",
              "      <th>end station name</th>\n",
              "      <th>end station latitude</th>\n",
              "      <th>end station longitude</th>\n",
              "      <th>bikeid</th>\n",
              "      <th>usertype</th>\n",
              "      <th>birth year</th>\n",
              "      <th>gender</th>\n",
              "    </tr>\n",
              "  </thead>\n",
              "  <tbody>\n",
              "    <tr>\n",
              "      <th>682757</th>\n",
              "      <td>1680</td>\n",
              "      <td>2020-04-30 23:59:00.7780</td>\n",
              "      <td>2020-05-01 00:27:01.7600</td>\n",
              "      <td>447</td>\n",
              "      <td>8 Ave &amp; W 52 St</td>\n",
              "      <td>40.763707</td>\n",
              "      <td>-73.985162</td>\n",
              "      <td>2021</td>\n",
              "      <td>W 45 St &amp; 8 Ave</td>\n",
              "      <td>40.759291</td>\n",
              "      <td>-73.988597</td>\n",
              "      <td>43888</td>\n",
              "      <td>Subscriber</td>\n",
              "      <td>1989</td>\n",
              "      <td>1</td>\n",
              "    </tr>\n",
              "    <tr>\n",
              "      <th>682758</th>\n",
              "      <td>1334</td>\n",
              "      <td>2020-04-30 23:59:23.6460</td>\n",
              "      <td>2020-05-01 00:21:38.2190</td>\n",
              "      <td>3292</td>\n",
              "      <td>5 Ave &amp; E 93 St</td>\n",
              "      <td>40.785785</td>\n",
              "      <td>-73.957481</td>\n",
              "      <td>509</td>\n",
              "      <td>9 Ave &amp; W 22 St</td>\n",
              "      <td>40.745497</td>\n",
              "      <td>-74.001971</td>\n",
              "      <td>36853</td>\n",
              "      <td>Subscriber</td>\n",
              "      <td>1973</td>\n",
              "      <td>1</td>\n",
              "    </tr>\n",
              "    <tr>\n",
              "      <th>682759</th>\n",
              "      <td>1334</td>\n",
              "      <td>2020-04-30 23:59:33.6760</td>\n",
              "      <td>2020-05-01 00:21:48.2150</td>\n",
              "      <td>3292</td>\n",
              "      <td>5 Ave &amp; E 93 St</td>\n",
              "      <td>40.785785</td>\n",
              "      <td>-73.957481</td>\n",
              "      <td>509</td>\n",
              "      <td>9 Ave &amp; W 22 St</td>\n",
              "      <td>40.745497</td>\n",
              "      <td>-74.001971</td>\n",
              "      <td>37808</td>\n",
              "      <td>Subscriber</td>\n",
              "      <td>1981</td>\n",
              "      <td>1</td>\n",
              "    </tr>\n",
              "    <tr>\n",
              "      <th>682760</th>\n",
              "      <td>234</td>\n",
              "      <td>2020-04-30 23:59:56.9720</td>\n",
              "      <td>2020-05-01 00:03:51.9600</td>\n",
              "      <td>469</td>\n",
              "      <td>Broadway &amp; W 53 St</td>\n",
              "      <td>40.763441</td>\n",
              "      <td>-73.982681</td>\n",
              "      <td>495</td>\n",
              "      <td>W 47 St &amp; 10 Ave</td>\n",
              "      <td>40.762699</td>\n",
              "      <td>-73.993012</td>\n",
              "      <td>20635</td>\n",
              "      <td>Subscriber</td>\n",
              "      <td>1996</td>\n",
              "      <td>2</td>\n",
              "    </tr>\n",
              "    <tr>\n",
              "      <th>682761</th>\n",
              "      <td>267</td>\n",
              "      <td>2020-04-30 23:59:59.3510</td>\n",
              "      <td>2020-05-01 00:04:26.8110</td>\n",
              "      <td>3812</td>\n",
              "      <td>University Pl &amp; E 14 St</td>\n",
              "      <td>40.734814</td>\n",
              "      <td>-73.992085</td>\n",
              "      <td>503</td>\n",
              "      <td>E 20 St &amp; Park Ave</td>\n",
              "      <td>40.738274</td>\n",
              "      <td>-73.987520</td>\n",
              "      <td>37530</td>\n",
              "      <td>Subscriber</td>\n",
              "      <td>1980</td>\n",
              "      <td>1</td>\n",
              "    </tr>\n",
              "  </tbody>\n",
              "</table>\n",
              "</div>"
            ],
            "text/plain": [
              "        tripduration                 starttime  ... birth year  gender\n",
              "682757          1680  2020-04-30 23:59:00.7780  ...       1989       1\n",
              "682758          1334  2020-04-30 23:59:23.6460  ...       1973       1\n",
              "682759          1334  2020-04-30 23:59:33.6760  ...       1981       1\n",
              "682760           234  2020-04-30 23:59:56.9720  ...       1996       2\n",
              "682761           267  2020-04-30 23:59:59.3510  ...       1980       1\n",
              "\n",
              "[5 rows x 15 columns]"
            ]
          },
          "metadata": {
            "tags": []
          },
          "execution_count": 9
        }
      ]
    },
    {
      "cell_type": "code",
      "metadata": {
        "id": "QDxSnuogtyxr",
        "colab_type": "code",
        "colab": {}
      },
      "source": [
        "citibike_20_clean = citibike_20[citibike_20['tripduration'] <= 24*60*60*1] #remove trip over 1 day and less than 1 min\n",
        "citibike_20_clean= citibike_20_clean[citibike_20_clean['tripduration'] >= 60]"
      ],
      "execution_count": null,
      "outputs": []
    },
    {
      "cell_type": "code",
      "metadata": {
        "id": "UlH7IwAlufIx",
        "colab_type": "code",
        "colab": {
          "base_uri": "https://localhost:8080/",
          "height": 34
        },
        "outputId": "6cffe753-b049-4fc9-da0b-f3f91afab85f"
      },
      "source": [
        "citibike_20_clean.shape"
      ],
      "execution_count": null,
      "outputs": [
        {
          "output_type": "execute_result",
          "data": {
            "text/plain": [
              "(4137191, 15)"
            ]
          },
          "metadata": {
            "tags": []
          },
          "execution_count": 11
        }
      ]
    },
    {
      "cell_type": "code",
      "metadata": {
        "id": "Ab4OKlXw7JgS",
        "colab_type": "code",
        "colab": {
          "base_uri": "https://localhost:8080/",
          "height": 122
        },
        "outputId": "bc5a220c-00a3-4fdb-8429-4a777b6a0209"
      },
      "source": [
        "from google.colab import drive\n",
        "drive.mount('/content/drive')"
      ],
      "execution_count": null,
      "outputs": [
        {
          "output_type": "stream",
          "text": [
            "Go to this URL in a browser: https://accounts.google.com/o/oauth2/auth?client_id=947318989803-6bn6qk8qdgf4n4g3pfee6491hc0brc4i.apps.googleusercontent.com&redirect_uri=urn%3aietf%3awg%3aoauth%3a2.0%3aoob&response_type=code&scope=email%20https%3a%2f%2fwww.googleapis.com%2fauth%2fdocs.test%20https%3a%2f%2fwww.googleapis.com%2fauth%2fdrive%20https%3a%2f%2fwww.googleapis.com%2fauth%2fdrive.photos.readonly%20https%3a%2f%2fwww.googleapis.com%2fauth%2fpeopleapi.readonly\n",
            "\n",
            "Enter your authorization code:\n",
            "··········\n",
            "Mounted at /content/drive\n"
          ],
          "name": "stdout"
        }
      ]
    },
    {
      "cell_type": "code",
      "metadata": {
        "id": "N4A3ongexyuE",
        "colab_type": "code",
        "colab": {}
      },
      "source": [
        "citibike_taxizone = pd.read_csv(\"drive/My Drive/sjoined_citibike.csv\", index_col=0)"
      ],
      "execution_count": null,
      "outputs": []
    },
    {
      "cell_type": "code",
      "metadata": {
        "id": "oNggWFGJx77X",
        "colab_type": "code",
        "colab": {
          "base_uri": "https://localhost:8080/",
          "height": 476
        },
        "outputId": "8ac7e281-1ea1-43f0-fb8d-35688c9ae1fb"
      },
      "source": [
        "citibike_taxizone.head()"
      ],
      "execution_count": null,
      "outputs": [
        {
          "output_type": "execute_result",
          "data": {
            "text/html": [
              "<div>\n",
              "<style scoped>\n",
              "    .dataframe tbody tr th:only-of-type {\n",
              "        vertical-align: middle;\n",
              "    }\n",
              "\n",
              "    .dataframe tbody tr th {\n",
              "        vertical-align: top;\n",
              "    }\n",
              "\n",
              "    .dataframe thead th {\n",
              "        text-align: right;\n",
              "    }\n",
              "</style>\n",
              "<table border=\"1\" class=\"dataframe\">\n",
              "  <thead>\n",
              "    <tr style=\"text-align: right;\">\n",
              "      <th></th>\n",
              "      <th>stationName</th>\n",
              "      <th>AvailableDocks</th>\n",
              "      <th>totalDocks</th>\n",
              "      <th>latitude</th>\n",
              "      <th>longitude</th>\n",
              "      <th>StatusValue</th>\n",
              "      <th>StatusKey</th>\n",
              "      <th>availableBikes</th>\n",
              "      <th>Address</th>\n",
              "      <th>lastCommunicationTime</th>\n",
              "      <th>State</th>\n",
              "      <th>geometry</th>\n",
              "      <th>index_right</th>\n",
              "      <th>shape_area</th>\n",
              "      <th>objectid</th>\n",
              "      <th>shape_leng</th>\n",
              "      <th>location_id</th>\n",
              "      <th>zone</th>\n",
              "      <th>borough</th>\n",
              "      <th>venue_counts</th>\n",
              "    </tr>\n",
              "    <tr>\n",
              "      <th>Id</th>\n",
              "      <th></th>\n",
              "      <th></th>\n",
              "      <th></th>\n",
              "      <th></th>\n",
              "      <th></th>\n",
              "      <th></th>\n",
              "      <th></th>\n",
              "      <th></th>\n",
              "      <th></th>\n",
              "      <th></th>\n",
              "      <th></th>\n",
              "      <th></th>\n",
              "      <th></th>\n",
              "      <th></th>\n",
              "      <th></th>\n",
              "      <th></th>\n",
              "      <th></th>\n",
              "      <th></th>\n",
              "      <th></th>\n",
              "      <th></th>\n",
              "    </tr>\n",
              "  </thead>\n",
              "  <tbody>\n",
              "    <tr>\n",
              "      <th>281</th>\n",
              "      <td>Grand Army Plaza &amp; Central Park S</td>\n",
              "      <td>47</td>\n",
              "      <td>66</td>\n",
              "      <td>40.764397</td>\n",
              "      <td>-73.973715</td>\n",
              "      <td>In Service</td>\n",
              "      <td>1</td>\n",
              "      <td>19</td>\n",
              "      <td>Grand Army Plaza &amp; Central Park S</td>\n",
              "      <td>11/18/19 14:21</td>\n",
              "      <td>NY</td>\n",
              "      <td>POINT (-73.97371465000001 40.7643971)</td>\n",
              "      <td>162</td>\n",
              "      <td>0.000041</td>\n",
              "      <td>163</td>\n",
              "      <td>0.034177</td>\n",
              "      <td>163</td>\n",
              "      <td>Midtown North</td>\n",
              "      <td>Manhattan</td>\n",
              "      <td>5.0</td>\n",
              "    </tr>\n",
              "    <tr>\n",
              "      <th>468</th>\n",
              "      <td>Broadway &amp; W 56 St</td>\n",
              "      <td>11</td>\n",
              "      <td>65</td>\n",
              "      <td>40.765265</td>\n",
              "      <td>-73.981923</td>\n",
              "      <td>In Service</td>\n",
              "      <td>1</td>\n",
              "      <td>53</td>\n",
              "      <td>Broadway &amp; W 56 St</td>\n",
              "      <td>11/18/19 14:23</td>\n",
              "      <td>NY</td>\n",
              "      <td>POINT (-73.98192338 40.7652654)</td>\n",
              "      <td>162</td>\n",
              "      <td>0.000041</td>\n",
              "      <td>163</td>\n",
              "      <td>0.034177</td>\n",
              "      <td>163</td>\n",
              "      <td>Midtown North</td>\n",
              "      <td>Manhattan</td>\n",
              "      <td>5.0</td>\n",
              "    </tr>\n",
              "    <tr>\n",
              "      <th>3457</th>\n",
              "      <td>E 58 St &amp; Madison Ave</td>\n",
              "      <td>0</td>\n",
              "      <td>46</td>\n",
              "      <td>40.763026</td>\n",
              "      <td>-73.972095</td>\n",
              "      <td>In Service</td>\n",
              "      <td>1</td>\n",
              "      <td>45</td>\n",
              "      <td>E 58 St &amp; Madison Ave</td>\n",
              "      <td>11/18/19 14:24</td>\n",
              "      <td>NY</td>\n",
              "      <td>POINT (-73.97209525 40.76302594)</td>\n",
              "      <td>162</td>\n",
              "      <td>0.000041</td>\n",
              "      <td>163</td>\n",
              "      <td>0.034177</td>\n",
              "      <td>163</td>\n",
              "      <td>Midtown North</td>\n",
              "      <td>Manhattan</td>\n",
              "      <td>5.0</td>\n",
              "    </tr>\n",
              "    <tr>\n",
              "      <th>3724</th>\n",
              "      <td>7 Ave &amp; Central Park South</td>\n",
              "      <td>4</td>\n",
              "      <td>39</td>\n",
              "      <td>40.766741</td>\n",
              "      <td>-73.979069</td>\n",
              "      <td>In Service</td>\n",
              "      <td>1</td>\n",
              "      <td>35</td>\n",
              "      <td>7 Ave &amp; Central Park South</td>\n",
              "      <td>11/18/19 14:24</td>\n",
              "      <td>NY</td>\n",
              "      <td>POINT (-73.97906899 40.76674056)</td>\n",
              "      <td>162</td>\n",
              "      <td>0.000041</td>\n",
              "      <td>163</td>\n",
              "      <td>0.034177</td>\n",
              "      <td>163</td>\n",
              "      <td>Midtown North</td>\n",
              "      <td>Manhattan</td>\n",
              "      <td>5.0</td>\n",
              "    </tr>\n",
              "    <tr>\n",
              "      <th>3809</th>\n",
              "      <td>W 55 St &amp; 6 Ave</td>\n",
              "      <td>9</td>\n",
              "      <td>53</td>\n",
              "      <td>40.763189</td>\n",
              "      <td>-73.978434</td>\n",
              "      <td>In Service</td>\n",
              "      <td>1</td>\n",
              "      <td>40</td>\n",
              "      <td>W 55 St &amp; 6 Ave</td>\n",
              "      <td>11/18/19 14:24</td>\n",
              "      <td>NY</td>\n",
              "      <td>POINT (-73.97843399999999 40.763189)</td>\n",
              "      <td>162</td>\n",
              "      <td>0.000041</td>\n",
              "      <td>163</td>\n",
              "      <td>0.034177</td>\n",
              "      <td>163</td>\n",
              "      <td>Midtown North</td>\n",
              "      <td>Manhattan</td>\n",
              "      <td>5.0</td>\n",
              "    </tr>\n",
              "  </tbody>\n",
              "</table>\n",
              "</div>"
            ],
            "text/plain": [
              "                            stationName  ...  venue_counts\n",
              "Id                                       ...              \n",
              "281   Grand Army Plaza & Central Park S  ...           5.0\n",
              "468                  Broadway & W 56 St  ...           5.0\n",
              "3457              E 58 St & Madison Ave  ...           5.0\n",
              "3724         7 Ave & Central Park South  ...           5.0\n",
              "3809                    W 55 St & 6 Ave  ...           5.0\n",
              "\n",
              "[5 rows x 20 columns]"
            ]
          },
          "metadata": {
            "tags": []
          },
          "execution_count": 15
        }
      ]
    },
    {
      "cell_type": "code",
      "metadata": {
        "id": "YNoFYXcL2kLg",
        "colab_type": "code",
        "colab": {
          "base_uri": "https://localhost:8080/",
          "height": 34
        },
        "outputId": "e326589e-64ae-4aa3-8639-da346f12f8a3"
      },
      "source": [
        "citibike_taxizone.shape"
      ],
      "execution_count": null,
      "outputs": [
        {
          "output_type": "execute_result",
          "data": {
            "text/plain": [
              "(860, 20)"
            ]
          },
          "metadata": {
            "tags": []
          },
          "execution_count": 16
        }
      ]
    },
    {
      "cell_type": "code",
      "metadata": {
        "id": "tZRSbtZVx74H",
        "colab_type": "code",
        "colab": {}
      },
      "source": [
        "citibike_dic ={key:citibike_taxizone['location_id'][key] for key in citibike_taxizone.index}"
      ],
      "execution_count": null,
      "outputs": []
    },
    {
      "cell_type": "code",
      "metadata": {
        "id": "nI-7U5Agz9PX",
        "colab_type": "code",
        "colab": {}
      },
      "source": [
        "citibike_20_clean['start_station_tx']=citibike_20_clean['start station id'].map(citibike_dic)"
      ],
      "execution_count": null,
      "outputs": []
    },
    {
      "cell_type": "code",
      "metadata": {
        "id": "5shbG5j14U41",
        "colab_type": "code",
        "colab": {}
      },
      "source": [
        "citibike_20_clean['end_station_tx']=citibike_20_clean['end station id'].map(citibike_dic)"
      ],
      "execution_count": null,
      "outputs": []
    },
    {
      "cell_type": "code",
      "metadata": {
        "id": "kOuQY0Oq4VA6",
        "colab_type": "code",
        "colab": {
          "base_uri": "https://localhost:8080/",
          "height": 34
        },
        "outputId": "a80fb8dc-ad59-4129-8e8e-e335608d7382"
      },
      "source": [
        "citibike_20_clean.shape"
      ],
      "execution_count": null,
      "outputs": [
        {
          "output_type": "execute_result",
          "data": {
            "text/plain": [
              "(4137191, 17)"
            ]
          },
          "metadata": {
            "tags": []
          },
          "execution_count": 20
        }
      ]
    },
    {
      "cell_type": "code",
      "metadata": {
        "id": "zvPmSFK24_UH",
        "colab_type": "code",
        "colab": {}
      },
      "source": [
        "citibike_20_clean.to_csv('citibike_20_clean.csv')"
      ],
      "execution_count": null,
      "outputs": []
    },
    {
      "cell_type": "code",
      "metadata": {
        "id": "uJ74DSRmSBM-",
        "colab_type": "code",
        "colab": {
          "base_uri": "https://localhost:8080/",
          "height": 54
        },
        "outputId": "399ecf6f-d394-4425-e55e-1b28f1750944"
      },
      "source": [
        "with open('drive/My Drive/citibike_20_clean.csv','r')as fi:\n",
        "    reader = csv.DictReader(fi)\n",
        "    for record in reader:\n",
        "      print(record)\n",
        "      break"
      ],
      "execution_count": null,
      "outputs": [
        {
          "output_type": "stream",
          "text": [
            "OrderedDict([('', '0'), ('tripduration', '789'), ('starttime', '2020-01-01 00:00:55.3900'), ('stoptime', '2020-01-01 00:14:05.1470'), ('start station id', '504'), ('start station name', '1 Ave & E 16 St'), ('start station latitude', '40.73221853'), ('start station longitude', '-73.98165557'), ('end station id', '307'), ('end station name', 'Canal St & Rutgers St'), ('end station latitude', '40.71427487'), ('end station longitude', '-73.98990025'), ('bikeid', '30326'), ('usertype', 'Subscriber'), ('birth year', '1992'), ('gender', '1'), ('start_station_tx', '224.0'), ('end_station_tx', '232.0')])\n"
          ],
          "name": "stdout"
        }
      ]
    },
    {
      "cell_type": "code",
      "metadata": {
        "id": "S7cBpzJm9w8w",
        "colab_type": "code",
        "colab": {}
      },
      "source": [
        "taxizone_citi_inflow_20 = {}\n",
        "taxizone_citi_outflow_20 = {}\n",
        "taxizone_citi_loop_20 = {}\n",
        "\n",
        "with open('drive/My Drive/citibike_20_clean.csv','r')as fi:\n",
        "    reader = csv.DictReader(fi)\n",
        "    for record in reader:\n",
        "        date_hour_do = record['stoptime'][:13]\n",
        "        date_hour_pu = record['starttime'][:13]\n",
        "        dropoff_ID = record['end_station_tx'][:-2]\n",
        "        pickup_ID = record['start_station_tx'][:-2]\n",
        "\n",
        "        if dropoff_ID != '' and pickup_ID != '': \n",
        "          if dropoff_ID == pickup_ID:\n",
        "            taxizone_citi_loop_20[(date_hour_do, dropoff_ID)] = taxizone_citi_loop_20.get((date_hour_do, dropoff_ID),0)+1\n",
        "        \n",
        "          elif dropoff_ID != pickup_ID:\n",
        "            taxizone_citi_inflow_20[(date_hour_do, dropoff_ID)] = taxizone_citi_inflow_20.get((date_hour_do, dropoff_ID),0)+1\n",
        "            taxizone_citi_outflow_20[(date_hour_pu, pickup_ID)] = taxizone_citi_outflow_20.get((date_hour_pu, pickup_ID),0)+1"
      ],
      "execution_count": null,
      "outputs": []
    },
    {
      "cell_type": "code",
      "metadata": {
        "id": "eC-meeS4W318",
        "colab_type": "code",
        "colab": {}
      },
      "source": [
        "import datetime\n",
        "\n",
        "dt = datetime.datetime(2020, 1, 1)\n",
        "end = datetime.datetime(2020, 5, 1, 1, 0, 0)\n",
        "step = datetime.timedelta(hours=1)\n",
        "\n",
        "result = []\n",
        "fulldate = []\n",
        "\n",
        "while dt < end:\n",
        "    result.append(dt.strftime('%Y-%m-%d %H:%M:%S'))\n",
        "    fulldate.append(dt.strftime('%m/%d/%Y %H:%M:%S'))\n",
        "    dt += step"
      ],
      "execution_count": null,
      "outputs": []
    },
    {
      "cell_type": "code",
      "metadata": {
        "colab_type": "code",
        "id": "W7HzJuX2hOGr",
        "colab": {}
      },
      "source": [
        "taxizoneID = list(range(1,264))"
      ],
      "execution_count": null,
      "outputs": []
    },
    {
      "cell_type": "code",
      "metadata": {
        "colab_type": "code",
        "id": "ai-msXKjhOGu",
        "colab": {}
      },
      "source": [
        "keys = [(x,str(y)) for x in result for y in taxizoneID]"
      ],
      "execution_count": null,
      "outputs": []
    },
    {
      "cell_type": "code",
      "metadata": {
        "id": "z7ToflBia1CV",
        "colab_type": "code",
        "colab": {}
      },
      "source": [
        "citi20 = pd.DataFrame({'map' : keys})"
      ],
      "execution_count": null,
      "outputs": []
    },
    {
      "cell_type": "code",
      "metadata": {
        "id": "dJCJ3QfXoaO7",
        "colab_type": "code",
        "colab": {}
      },
      "source": [
        "citi20['map2'] = [(x[:13],y) for (x,y) in citi20['map']]"
      ],
      "execution_count": null,
      "outputs": []
    },
    {
      "cell_type": "code",
      "metadata": {
        "colab_type": "code",
        "id": "3FWvndvlhOGn",
        "colab": {}
      },
      "source": [
        "citi20['inflow_counts'] = citi20.map2.map(taxizone_citi_inflow_20)\n",
        "citi20['outflow_counts'] = citi20.map2.map(taxizone_citi_outflow_20)\n",
        "citi20['loop_counts'] = citi20.map2.map(taxizone_citi_loop_20)"
      ],
      "execution_count": null,
      "outputs": []
    },
    {
      "cell_type": "code",
      "metadata": {
        "id": "8A1ebRoLy_B8",
        "colab_type": "code",
        "colab": {}
      },
      "source": [
        "citi20 = citi20.fillna(0)"
      ],
      "execution_count": null,
      "outputs": []
    },
    {
      "cell_type": "code",
      "metadata": {
        "id": "0_NdJSK0hYAM",
        "colab_type": "code",
        "colab": {}
      },
      "source": [
        "citi20['time'] = [x for (x,y) in citi20['map']]\n",
        "citi20['taxizoneID'] = [int(y) for (x,y) in citi20['map']]"
      ],
      "execution_count": null,
      "outputs": []
    },
    {
      "cell_type": "code",
      "metadata": {
        "id": "yfvgGPmXhic8",
        "colab_type": "code",
        "colab": {}
      },
      "source": [
        "citi20['time'] = [datetime.strptime(x, '%Y-%m-%d %H:%M:%S') for x in citi20['time']]"
      ],
      "execution_count": null,
      "outputs": []
    },
    {
      "cell_type": "code",
      "metadata": {
        "id": "QS-S6CjLpWQE",
        "colab_type": "code",
        "colab": {}
      },
      "source": [
        "citi20['hour'] = [x.hour for x in citi20['time']]\n",
        "citi20['weekday'] = citi20[['time']].apply(lambda x: datetime.strftime(x['time'], '%A'), axis=1)\n",
        "citi20['week'] = [x.isocalendar()[1] for x in citi20['time']]"
      ],
      "execution_count": null,
      "outputs": []
    },
    {
      "cell_type": "code",
      "metadata": {
        "id": "K-riM-Q4pWTS",
        "colab_type": "code",
        "colab": {}
      },
      "source": [
        "def timebin(hour):\n",
        "    if hour == 20:\n",
        "        return 1\n",
        "    if hour == 21:\n",
        "        return 1\n",
        "    if hour == 22:\n",
        "        return 1\n",
        "    if hour == 23:\n",
        "        return 1\n",
        "    if hour == 0:\n",
        "        return 2\n",
        "    if hour == 1:\n",
        "        return 2\n",
        "    if hour == 2:\n",
        "        return 2\n",
        "    if hour == 3:\n",
        "        return 2\n",
        "    else:\n",
        "        return 0\n",
        "    \n",
        "hourgroups = {1:'8pm - 12am', \n",
        "              2: '12am - 4am', \n",
        "              0:'daytime'}"
      ],
      "execution_count": null,
      "outputs": []
    },
    {
      "cell_type": "code",
      "metadata": {
        "id": "-a633w1ypWWp",
        "colab_type": "code",
        "colab": {}
      },
      "source": [
        "citi20['timegroup'] = citi20['hour'].apply(timebin)\n",
        "citi20['timegroupstr'] = citi20['timegroup'].map(hourgroups)"
      ],
      "execution_count": null,
      "outputs": []
    },
    {
      "cell_type": "code",
      "metadata": {
        "id": "9nJ1X3OspyVy",
        "colab_type": "code",
        "colab": {
          "base_uri": "https://localhost:8080/",
          "height": 419
        },
        "outputId": "0981c55b-63de-4a50-db62-446c6666e590"
      },
      "source": [
        "citi20"
      ],
      "execution_count": null,
      "outputs": [
        {
          "output_type": "execute_result",
          "data": {
            "text/html": [
              "<div>\n",
              "<style scoped>\n",
              "    .dataframe tbody tr th:only-of-type {\n",
              "        vertical-align: middle;\n",
              "    }\n",
              "\n",
              "    .dataframe tbody tr th {\n",
              "        vertical-align: top;\n",
              "    }\n",
              "\n",
              "    .dataframe thead th {\n",
              "        text-align: right;\n",
              "    }\n",
              "</style>\n",
              "<table border=\"1\" class=\"dataframe\">\n",
              "  <thead>\n",
              "    <tr style=\"text-align: right;\">\n",
              "      <th></th>\n",
              "      <th>map</th>\n",
              "      <th>map2</th>\n",
              "      <th>inflow_counts</th>\n",
              "      <th>outflow_counts</th>\n",
              "      <th>loop_counts</th>\n",
              "      <th>time</th>\n",
              "      <th>taxizoneID</th>\n",
              "      <th>hour</th>\n",
              "      <th>weekday</th>\n",
              "      <th>week</th>\n",
              "      <th>timegroup</th>\n",
              "      <th>timegroupstr</th>\n",
              "    </tr>\n",
              "  </thead>\n",
              "  <tbody>\n",
              "    <tr>\n",
              "      <th>0</th>\n",
              "      <td>(2020-01-01 00:00:00, 1)</td>\n",
              "      <td>(2020-01-01 00, 1)</td>\n",
              "      <td>0.0</td>\n",
              "      <td>0.0</td>\n",
              "      <td>0.0</td>\n",
              "      <td>2020-01-01</td>\n",
              "      <td>1</td>\n",
              "      <td>0</td>\n",
              "      <td>Wednesday</td>\n",
              "      <td>1</td>\n",
              "      <td>2</td>\n",
              "      <td>12am - 4am</td>\n",
              "    </tr>\n",
              "    <tr>\n",
              "      <th>1</th>\n",
              "      <td>(2020-01-01 00:00:00, 2)</td>\n",
              "      <td>(2020-01-01 00, 2)</td>\n",
              "      <td>0.0</td>\n",
              "      <td>0.0</td>\n",
              "      <td>0.0</td>\n",
              "      <td>2020-01-01</td>\n",
              "      <td>2</td>\n",
              "      <td>0</td>\n",
              "      <td>Wednesday</td>\n",
              "      <td>1</td>\n",
              "      <td>2</td>\n",
              "      <td>12am - 4am</td>\n",
              "    </tr>\n",
              "    <tr>\n",
              "      <th>2</th>\n",
              "      <td>(2020-01-01 00:00:00, 3)</td>\n",
              "      <td>(2020-01-01 00, 3)</td>\n",
              "      <td>0.0</td>\n",
              "      <td>0.0</td>\n",
              "      <td>0.0</td>\n",
              "      <td>2020-01-01</td>\n",
              "      <td>3</td>\n",
              "      <td>0</td>\n",
              "      <td>Wednesday</td>\n",
              "      <td>1</td>\n",
              "      <td>2</td>\n",
              "      <td>12am - 4am</td>\n",
              "    </tr>\n",
              "    <tr>\n",
              "      <th>3</th>\n",
              "      <td>(2020-01-01 00:00:00, 4)</td>\n",
              "      <td>(2020-01-01 00, 4)</td>\n",
              "      <td>5.0</td>\n",
              "      <td>1.0</td>\n",
              "      <td>0.0</td>\n",
              "      <td>2020-01-01</td>\n",
              "      <td>4</td>\n",
              "      <td>0</td>\n",
              "      <td>Wednesday</td>\n",
              "      <td>1</td>\n",
              "      <td>2</td>\n",
              "      <td>12am - 4am</td>\n",
              "    </tr>\n",
              "    <tr>\n",
              "      <th>4</th>\n",
              "      <td>(2020-01-01 00:00:00, 5)</td>\n",
              "      <td>(2020-01-01 00, 5)</td>\n",
              "      <td>0.0</td>\n",
              "      <td>0.0</td>\n",
              "      <td>0.0</td>\n",
              "      <td>2020-01-01</td>\n",
              "      <td>5</td>\n",
              "      <td>0</td>\n",
              "      <td>Wednesday</td>\n",
              "      <td>1</td>\n",
              "      <td>2</td>\n",
              "      <td>12am - 4am</td>\n",
              "    </tr>\n",
              "    <tr>\n",
              "      <th>...</th>\n",
              "      <td>...</td>\n",
              "      <td>...</td>\n",
              "      <td>...</td>\n",
              "      <td>...</td>\n",
              "      <td>...</td>\n",
              "      <td>...</td>\n",
              "      <td>...</td>\n",
              "      <td>...</td>\n",
              "      <td>...</td>\n",
              "      <td>...</td>\n",
              "      <td>...</td>\n",
              "      <td>...</td>\n",
              "    </tr>\n",
              "    <tr>\n",
              "      <th>764010</th>\n",
              "      <td>(2020-05-01 00:00:00, 259)</td>\n",
              "      <td>(2020-05-01 00, 259)</td>\n",
              "      <td>0.0</td>\n",
              "      <td>0.0</td>\n",
              "      <td>0.0</td>\n",
              "      <td>2020-05-01</td>\n",
              "      <td>259</td>\n",
              "      <td>0</td>\n",
              "      <td>Friday</td>\n",
              "      <td>18</td>\n",
              "      <td>2</td>\n",
              "      <td>12am - 4am</td>\n",
              "    </tr>\n",
              "    <tr>\n",
              "      <th>764011</th>\n",
              "      <td>(2020-05-01 00:00:00, 260)</td>\n",
              "      <td>(2020-05-01 00, 260)</td>\n",
              "      <td>0.0</td>\n",
              "      <td>0.0</td>\n",
              "      <td>0.0</td>\n",
              "      <td>2020-05-01</td>\n",
              "      <td>260</td>\n",
              "      <td>0</td>\n",
              "      <td>Friday</td>\n",
              "      <td>18</td>\n",
              "      <td>2</td>\n",
              "      <td>12am - 4am</td>\n",
              "    </tr>\n",
              "    <tr>\n",
              "      <th>764012</th>\n",
              "      <td>(2020-05-01 00:00:00, 261)</td>\n",
              "      <td>(2020-05-01 00, 261)</td>\n",
              "      <td>0.0</td>\n",
              "      <td>0.0</td>\n",
              "      <td>0.0</td>\n",
              "      <td>2020-05-01</td>\n",
              "      <td>261</td>\n",
              "      <td>0</td>\n",
              "      <td>Friday</td>\n",
              "      <td>18</td>\n",
              "      <td>2</td>\n",
              "      <td>12am - 4am</td>\n",
              "    </tr>\n",
              "    <tr>\n",
              "      <th>764013</th>\n",
              "      <td>(2020-05-01 00:00:00, 262)</td>\n",
              "      <td>(2020-05-01 00, 262)</td>\n",
              "      <td>0.0</td>\n",
              "      <td>0.0</td>\n",
              "      <td>0.0</td>\n",
              "      <td>2020-05-01</td>\n",
              "      <td>262</td>\n",
              "      <td>0</td>\n",
              "      <td>Friday</td>\n",
              "      <td>18</td>\n",
              "      <td>2</td>\n",
              "      <td>12am - 4am</td>\n",
              "    </tr>\n",
              "    <tr>\n",
              "      <th>764014</th>\n",
              "      <td>(2020-05-01 00:00:00, 263)</td>\n",
              "      <td>(2020-05-01 00, 263)</td>\n",
              "      <td>0.0</td>\n",
              "      <td>0.0</td>\n",
              "      <td>1.0</td>\n",
              "      <td>2020-05-01</td>\n",
              "      <td>263</td>\n",
              "      <td>0</td>\n",
              "      <td>Friday</td>\n",
              "      <td>18</td>\n",
              "      <td>2</td>\n",
              "      <td>12am - 4am</td>\n",
              "    </tr>\n",
              "  </tbody>\n",
              "</table>\n",
              "<p>764015 rows × 12 columns</p>\n",
              "</div>"
            ],
            "text/plain": [
              "                               map  ... timegroupstr\n",
              "0         (2020-01-01 00:00:00, 1)  ...   12am - 4am\n",
              "1         (2020-01-01 00:00:00, 2)  ...   12am - 4am\n",
              "2         (2020-01-01 00:00:00, 3)  ...   12am - 4am\n",
              "3         (2020-01-01 00:00:00, 4)  ...   12am - 4am\n",
              "4         (2020-01-01 00:00:00, 5)  ...   12am - 4am\n",
              "...                            ...  ...          ...\n",
              "764010  (2020-05-01 00:00:00, 259)  ...   12am - 4am\n",
              "764011  (2020-05-01 00:00:00, 260)  ...   12am - 4am\n",
              "764012  (2020-05-01 00:00:00, 261)  ...   12am - 4am\n",
              "764013  (2020-05-01 00:00:00, 262)  ...   12am - 4am\n",
              "764014  (2020-05-01 00:00:00, 263)  ...   12am - 4am\n",
              "\n",
              "[764015 rows x 12 columns]"
            ]
          },
          "metadata": {
            "tags": []
          },
          "execution_count": 99
        }
      ]
    },
    {
      "cell_type": "code",
      "metadata": {
        "id": "3kZsE2z_00Dj",
        "colab_type": "code",
        "colab": {}
      },
      "source": [
        "from google.colab import files\n",
        "citi20.to_csv('citi20.csv') \n",
        "files.download('citi20.csv')"
      ],
      "execution_count": null,
      "outputs": []
    },
    {
      "cell_type": "code",
      "metadata": {
        "id": "X9x2p3nBCZVn",
        "colab_type": "code",
        "colab": {}
      },
      "source": [
        ""
      ],
      "execution_count": null,
      "outputs": []
    }
  ]
}