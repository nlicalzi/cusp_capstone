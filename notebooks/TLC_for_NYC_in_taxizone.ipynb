{
  "nbformat": 4,
  "nbformat_minor": 0,
  "metadata": {
    "colab": {
      "name": "TLC for NYC in taxizone.ipynb",
      "provenance": [],
      "collapsed_sections": []
    },
    "kernelspec": {
      "name": "python3",
      "display_name": "Python 3"
    }
  },
  "cells": [
    {
      "cell_type": "code",
      "metadata": {
        "id": "QbJYyzukGeKq",
        "colab_type": "code",
        "colab": {}
      },
      "source": [
        "import pandas as pd\n",
        "import csv\n",
        "import requests\n",
        "from contextlib import closing\n",
        "import numpy as np"
      ],
      "execution_count": 1,
      "outputs": []
    },
    {
      "cell_type": "code",
      "metadata": {
        "id": "5IBNXQrRpT8N",
        "colab_type": "code",
        "colab": {}
      },
      "source": [
        "import datetime\n",
        "import dateutil\n",
        "from datetime import datetime, timedelta, time, date"
      ],
      "execution_count": 48,
      "outputs": []
    },
    {
      "cell_type": "code",
      "metadata": {
        "id": "6YZFERbPGkyU",
        "colab_type": "code",
        "colab": {}
      },
      "source": [
        "url1 = \"https://nyc-tlc.s3.amazonaws.com/trip+data/fhv_tripdata_2019-01.csv\"\n",
        "url21 = \"https://nyc-tlc.s3.amazonaws.com/trip+data/fhv_tripdata_2019-02.csv\"\n",
        "url22 = \"https://nyc-tlc.s3.amazonaws.com/trip+data/fhvhv_tripdata_2019-02.csv\"\n",
        "url31 = \"https://nyc-tlc.s3.amazonaws.com/trip+data/fhv_tripdata_2019-03.csv\"\n",
        "url32 = \"https://nyc-tlc.s3.amazonaws.com/trip+data/fhvhv_tripdata_2019-03.csv\"\n",
        "url41 = \"https://nyc-tlc.s3.amazonaws.com/trip+data/fhv_tripdata_2019-04.csv\"\n",
        "url42 = \"https://nyc-tlc.s3.amazonaws.com/trip+data/fhvhv_tripdata_2019-04.csv\""
      ],
      "execution_count": 3,
      "outputs": []
    },
    {
      "cell_type": "code",
      "metadata": {
        "id": "FkhMDbNaJ9dh",
        "colab_type": "code",
        "colab": {}
      },
      "source": [
        "taxizone_fhv_inflow_1901 = {}\n",
        "taxizone_fhv_outflow_1901 = {}\n",
        "taxizone_fhv_loop_1901 = {}\n",
        "\n",
        "with closing(requests.get(url1, stream=True)) as r:\n",
        "    f = (line.decode('utf-8') for line in r.iter_lines())\n",
        "    reader = csv.DictReader(f)\n",
        "    for record in reader:\n",
        "        date_hour_do = record['dropoff_datetime'][:13]\n",
        "        date_hour_pu = record['pickup_datetime'][:13]\n",
        "        dropoff_ID = record['DOLocationID']\n",
        "        pickup_ID = record['PULocationID']\n",
        "\n",
        "        if dropoff_ID != '' and pickup_ID != '': \n",
        "          if dropoff_ID == pickup_ID:\n",
        "            taxizone_fhv_loop_1901[(date_hour_do, dropoff_ID)] = taxizone_fhv_loop_1901.get((date_hour_do, dropoff_ID),0)+1\n",
        "        \n",
        "          elif dropoff_ID != pickup_ID:\n",
        "            taxizone_fhv_inflow_1901[(date_hour_do, dropoff_ID)] = taxizone_fhv_inflow_1901.get((date_hour_do, dropoff_ID),0)+1\n",
        "            taxizone_fhv_outflow_1901[(date_hour_pu, pickup_ID)] = taxizone_fhv_outflow_1901.get((date_hour_pu, pickup_ID),0)+1\n"
      ],
      "execution_count": 4,
      "outputs": []
    },
    {
      "cell_type": "code",
      "metadata": {
        "id": "mr22QQKRUnO5",
        "colab_type": "code",
        "colab": {}
      },
      "source": [
        "taxizone_fhv_inflow_1902 = {}\n",
        "taxizone_fhv_outflow_1902 = {}\n",
        "taxizone_fhv_loop_1902 = {}\n",
        "\n",
        "with closing(requests.get(url21, stream=True)) as r:\n",
        "    f = (line.decode('utf-8') for line in r.iter_lines())\n",
        "    reader = csv.DictReader(f)\n",
        "    for record in reader:\n",
        "        date_hour_do = record['dropoff_datetime'][:13]\n",
        "        date_hour_pu = record['pickup_datetime'][:13]\n",
        "        dropoff_ID = record['DOLocationID']\n",
        "        pickup_ID = record['PULocationID']\n",
        "\n",
        "        if dropoff_ID != '' and pickup_ID != '': \n",
        "          if dropoff_ID == pickup_ID:\n",
        "            taxizone_fhv_loop_1902[(date_hour_do, dropoff_ID)] = taxizone_fhv_loop_1902.get((date_hour_do, dropoff_ID),0)+1\n",
        "        \n",
        "          elif dropoff_ID != pickup_ID:\n",
        "            taxizone_fhv_inflow_1902[(date_hour_do, dropoff_ID)] = taxizone_fhv_inflow_1902.get((date_hour_do, dropoff_ID),0)+1\n",
        "            taxizone_fhv_outflow_1902[(date_hour_pu, pickup_ID)] = taxizone_fhv_outflow_1902.get((date_hour_pu, pickup_ID),0)+1"
      ],
      "execution_count": 6,
      "outputs": []
    },
    {
      "cell_type": "code",
      "metadata": {
        "id": "i0K2K7tmU5GY",
        "colab_type": "code",
        "colab": {}
      },
      "source": [
        "taxizone_hfhv_inflow_1902 = {}\n",
        "taxizone_hfhv_outflow_1902 = {}\n",
        "taxizone_hfhv_loop_1902 = {}\n",
        "\n",
        "with closing(requests.get(url22, stream=True)) as r:\n",
        "    f = (line.decode('utf-8') for line in r.iter_lines())\n",
        "    reader = csv.DictReader(f)\n",
        "    for record in reader:\n",
        "        date_hour_do = record['dropoff_datetime'][:13]\n",
        "        date_hour_pu = record['pickup_datetime'][:13]\n",
        "        dropoff_ID = record['DOLocationID']\n",
        "        pickup_ID = record['PULocationID']\n",
        "\n",
        "        if dropoff_ID != '' and pickup_ID != '': \n",
        "          if dropoff_ID == pickup_ID:\n",
        "            taxizone_hfhv_loop_1902[(date_hour_do, dropoff_ID)] = taxizone_hfhv_loop_1902.get((date_hour_do, dropoff_ID),0)+1\n",
        "        \n",
        "          elif dropoff_ID != pickup_ID:\n",
        "            taxizone_hfhv_inflow_1902[(date_hour_do, dropoff_ID)] = taxizone_hfhv_inflow_1902.get((date_hour_do, dropoff_ID),0)+1\n",
        "            taxizone_hfhv_outflow_1902[(date_hour_pu, pickup_ID)] = taxizone_hfhv_outflow_1902.get((date_hour_pu, pickup_ID),0)+1"
      ],
      "execution_count": 10,
      "outputs": []
    },
    {
      "cell_type": "code",
      "metadata": {
        "id": "Lz-wGhafU5Wi",
        "colab_type": "code",
        "colab": {}
      },
      "source": [
        "taxizone_fhv_inflow_1903 = {}\n",
        "taxizone_fhv_outflow_1903 = {}\n",
        "taxizone_fhv_loop_1903 = {}\n",
        "\n",
        "with closing(requests.get(url31, stream=True)) as r:\n",
        "    f = (line.decode('utf-8') for line in r.iter_lines())\n",
        "    reader = csv.DictReader(f)\n",
        "    for record in reader:\n",
        "        date_hour_do = record['dropoff_datetime'][:13]\n",
        "        date_hour_pu = record['pickup_datetime'][:13]\n",
        "        dropoff_ID = record['DOLocationID']\n",
        "        pickup_ID = record['PULocationID']\n",
        "\n",
        "        if dropoff_ID != '' and pickup_ID != '': \n",
        "          if dropoff_ID == pickup_ID:\n",
        "            taxizone_fhv_loop_1903[(date_hour_do, dropoff_ID)] = taxizone_fhv_loop_1903.get((date_hour_do, dropoff_ID),0)+1\n",
        "        \n",
        "          elif dropoff_ID != pickup_ID:\n",
        "            taxizone_fhv_inflow_1903[(date_hour_do, dropoff_ID)] = taxizone_fhv_inflow_1903.get((date_hour_do, dropoff_ID),0)+1\n",
        "            taxizone_fhv_outflow_1903[(date_hour_pu, pickup_ID)] = taxizone_fhv_outflow_1903.get((date_hour_pu, pickup_ID),0)+1"
      ],
      "execution_count": 12,
      "outputs": []
    },
    {
      "cell_type": "code",
      "metadata": {
        "id": "cYvWObo4Unaz",
        "colab_type": "code",
        "colab": {}
      },
      "source": [
        "taxizone_hfhv_inflow_1903 = {}\n",
        "taxizone_hfhv_outflow_1903 = {}\n",
        "taxizone_hfhv_loop_1903 = {}\n",
        "\n",
        "with closing(requests.get(url32, stream=True)) as r:\n",
        "    f = (line.decode('utf-8') for line in r.iter_lines())\n",
        "    reader = csv.DictReader(f)\n",
        "    for record in reader:\n",
        "        date_hour_do = record['dropoff_datetime'][:13]\n",
        "        date_hour_pu = record['pickup_datetime'][:13]\n",
        "        dropoff_ID = record['DOLocationID']\n",
        "        pickup_ID = record['PULocationID']\n",
        "\n",
        "        if dropoff_ID != '' and pickup_ID != '': \n",
        "          if dropoff_ID == pickup_ID:\n",
        "            taxizone_hfhv_loop_1903[(date_hour_do, dropoff_ID)] = taxizone_hfhv_loop_1903.get((date_hour_do, dropoff_ID),0)+1\n",
        "        \n",
        "          elif dropoff_ID != pickup_ID:\n",
        "            taxizone_hfhv_inflow_1903[(date_hour_do, dropoff_ID)] = taxizone_hfhv_inflow_1903.get((date_hour_do, dropoff_ID),0)+1\n",
        "            taxizone_hfhv_outflow_1903[(date_hour_pu, pickup_ID)] = taxizone_hfhv_outflow_1903.get((date_hour_pu, pickup_ID),0)+1"
      ],
      "execution_count": 13,
      "outputs": []
    },
    {
      "cell_type": "code",
      "metadata": {
        "colab_type": "code",
        "id": "dS-7Vjzaq4Wu",
        "colab": {}
      },
      "source": [
        "taxizone_fhv_inflow_1904 = {}\n",
        "taxizone_fhv_outflow_1904 = {}\n",
        "taxizone_fhv_loop_1904 = {}\n",
        "\n",
        "with closing(requests.get(url41, stream=True)) as r:\n",
        "    f = (line.decode('utf-8') for line in r.iter_lines())\n",
        "    reader = csv.DictReader(f)\n",
        "    for record in reader:\n",
        "        date_hour_do = record['dropoff_datetime'][:13]\n",
        "        date_hour_pu = record['pickup_datetime'][:13]\n",
        "        dropoff_ID = record['DOLocationID']\n",
        "        pickup_ID = record['PULocationID']\n",
        "\n",
        "        if dropoff_ID != '' and pickup_ID != '': \n",
        "          if dropoff_ID == pickup_ID:\n",
        "            taxizone_fhv_loop_1904[(date_hour_do, dropoff_ID)] = taxizone_fhv_loop_1904.get((date_hour_do, dropoff_ID),0)+1\n",
        "        \n",
        "          elif dropoff_ID != pickup_ID:\n",
        "            taxizone_fhv_inflow_1904[(date_hour_do, dropoff_ID)] = taxizone_fhv_inflow_1904.get((date_hour_do, dropoff_ID),0)+1\n",
        "            taxizone_fhv_outflow_1904[(date_hour_pu, pickup_ID)] = taxizone_fhv_outflow_1904.get((date_hour_pu, pickup_ID),0)+1"
      ],
      "execution_count": 16,
      "outputs": []
    },
    {
      "cell_type": "code",
      "metadata": {
        "colab_type": "code",
        "id": "0dPxasmyq4W0",
        "colab": {}
      },
      "source": [
        "taxizone_hfhv_inflow_1904 = {}\n",
        "taxizone_hfhv_outflow_1904 = {}\n",
        "taxizone_hfhv_loop_1904 = {}\n",
        "\n",
        "with closing(requests.get(url42, stream=True)) as r:\n",
        "    f = (line.decode('utf-8') for line in r.iter_lines())\n",
        "    reader = csv.DictReader(f)\n",
        "    for record in reader:\n",
        "        date_hour_do = record['dropoff_datetime'][:13]\n",
        "        date_hour_pu = record['pickup_datetime'][:13]\n",
        "        dropoff_ID = record['DOLocationID']\n",
        "        pickup_ID = record['PULocationID']\n",
        "\n",
        "        if dropoff_ID != '' and pickup_ID != '': \n",
        "          if dropoff_ID == pickup_ID:\n",
        "            taxizone_hfhv_loop_1904[(date_hour_do, dropoff_ID)] = taxizone_hfhv_loop_1904.get((date_hour_do, dropoff_ID),0)+1\n",
        "        \n",
        "          elif dropoff_ID != pickup_ID:\n",
        "            taxizone_hfhv_inflow_1904[(date_hour_do, dropoff_ID)] = taxizone_hfhv_inflow_1904.get((date_hour_do, dropoff_ID),0)+1\n",
        "            taxizone_hfhv_outflow_1904[(date_hour_pu, pickup_ID)] = taxizone_hfhv_outflow_1904.get((date_hour_pu, pickup_ID),0)+1"
      ],
      "execution_count": 17,
      "outputs": []
    },
    {
      "cell_type": "code",
      "metadata": {
        "id": "eC-meeS4W318",
        "colab_type": "code",
        "colab": {}
      },
      "source": [
        "import datetime\n",
        "\n",
        "dt = datetime.datetime(2019, 1, 1)\n",
        "end = datetime.datetime(2019, 5, 1, 1, 0, 0)\n",
        "step = datetime.timedelta(hours=1)\n",
        "\n",
        "result = []\n",
        "fulldate = []\n",
        "\n",
        "while dt < end:\n",
        "    result.append(dt.strftime('%Y-%m-%d %H:%M:%S'))\n",
        "    fulldate.append(dt.strftime('%m/%d/%Y %H:%M:%S'))\n",
        "    dt += step"
      ],
      "execution_count": 19,
      "outputs": []
    },
    {
      "cell_type": "code",
      "metadata": {
        "colab_type": "code",
        "id": "W7HzJuX2hOGr",
        "colab": {}
      },
      "source": [
        "taxizoneID = list(range(1,264))"
      ],
      "execution_count": 20,
      "outputs": []
    },
    {
      "cell_type": "code",
      "metadata": {
        "colab_type": "code",
        "id": "ai-msXKjhOGu",
        "colab": {}
      },
      "source": [
        "keys = [(x,str(y)) for x in result for y in taxizoneID]"
      ],
      "execution_count": 21,
      "outputs": []
    },
    {
      "cell_type": "code",
      "metadata": {
        "id": "z7ToflBia1CV",
        "colab_type": "code",
        "colab": {}
      },
      "source": [
        "fhv = pd.DataFrame({'map' : keys})"
      ],
      "execution_count": 22,
      "outputs": []
    },
    {
      "cell_type": "code",
      "metadata": {
        "id": "dJCJ3QfXoaO7",
        "colab_type": "code",
        "colab": {}
      },
      "source": [
        "fhv['map2'] = [(x[:13],y) for (x,y) in fhv['map']]"
      ],
      "execution_count": 25,
      "outputs": []
    },
    {
      "cell_type": "code",
      "metadata": {
        "colab_type": "code",
        "id": "3FWvndvlhOGn",
        "colab": {}
      },
      "source": [
        "fhv['inflow_counts_1901'] = fhv.map2.map(taxizone_fhv_inflow_1901)\n",
        "fhv['outflow_counts_1901'] = fhv.map2.map(taxizone_fhv_outflow_1901)\n",
        "fhv['loop_counts_1901'] = fhv.map2.map(taxizone_fhv_loop_1901)\n",
        "fhv['inflow_counts_1902'] = fhv.map2.map(taxizone_fhv_inflow_1902)\n",
        "fhv['outflow_counts_1902'] = fhv.map2.map(taxizone_fhv_outflow_1902)\n",
        "fhv['loop_counts_1902'] = fhv.map2.map(taxizone_fhv_loop_1902)\n",
        "fhv['inflow_counts_h_1902'] = fhv.map2.map(taxizone_hfhv_inflow_1902)\n",
        "fhv['outflow_counts_h_1902'] = fhv.map2.map(taxizone_hfhv_outflow_1902)\n",
        "fhv['loop_counts_h_1902'] = fhv.map2.map(taxizone_hfhv_loop_1902)"
      ],
      "execution_count": 35,
      "outputs": []
    },
    {
      "cell_type": "code",
      "metadata": {
        "id": "iaYKcLQAyjYx",
        "colab_type": "code",
        "colab": {}
      },
      "source": [
        "fhv['inflow_counts_1903'] = fhv.map2.map(taxizone_fhv_inflow_1903)\n",
        "fhv['outflow_counts_1903'] = fhv.map2.map(taxizone_fhv_outflow_1903)\n",
        "fhv['loop_counts_1903'] = fhv.map2.map(taxizone_fhv_loop_1903)\n",
        "fhv['inflow_counts_h_1903'] = fhv.map2.map(taxizone_hfhv_inflow_1903)\n",
        "fhv['outflow_counts_h_1903'] = fhv.map2.map(taxizone_hfhv_outflow_1903)\n",
        "fhv['loop_counts_h_1903'] = fhv.map2.map(taxizone_hfhv_loop_1903)"
      ],
      "execution_count": 36,
      "outputs": []
    },
    {
      "cell_type": "code",
      "metadata": {
        "id": "blsEpRWuytes",
        "colab_type": "code",
        "colab": {}
      },
      "source": [
        "fhv['inflow_counts_1904'] = fhv.map2.map(taxizone_fhv_inflow_1904)\n",
        "fhv['outflow_counts_1904'] = fhv.map2.map(taxizone_fhv_outflow_1904)\n",
        "fhv['loop_counts_1904'] = fhv.map2.map(taxizone_fhv_loop_1904)\n",
        "fhv['inflow_counts_h_1904'] = fhv.map2.map(taxizone_hfhv_inflow_1904)\n",
        "fhv['outflow_counts_h_1904'] = fhv.map2.map(taxizone_hfhv_outflow_1904)\n",
        "fhv['loop_counts_h_1904'] = fhv.map2.map(taxizone_hfhv_loop_1904)"
      ],
      "execution_count": 37,
      "outputs": []
    },
    {
      "cell_type": "code",
      "metadata": {
        "id": "8A1ebRoLy_B8",
        "colab_type": "code",
        "colab": {}
      },
      "source": [
        "fhv = fhv.fillna(0)"
      ],
      "execution_count": 39,
      "outputs": []
    },
    {
      "cell_type": "code",
      "metadata": {
        "id": "y3h9--Hfy_P5",
        "colab_type": "code",
        "colab": {}
      },
      "source": [
        "fhv['inflow_counts'] = fhv['inflow_counts_1901'] + fhv['inflow_counts_1902'] + fhv['inflow_counts_1903'] + fhv['inflow_counts_h_1902'] + fhv['inflow_counts_h_1903'] + fhv['inflow_counts_1904'] + fhv['inflow_counts_h_1904']"
      ],
      "execution_count": 41,
      "outputs": []
    },
    {
      "cell_type": "code",
      "metadata": {
        "id": "nqXy2E2xy_Vt",
        "colab_type": "code",
        "colab": {}
      },
      "source": [
        "fhv['outflow_counts'] = fhv['outflow_counts_1901'] + fhv['outflow_counts_1902'] + fhv['outflow_counts_1903'] + fhv['outflow_counts_h_1902'] + fhv['outflow_counts_h_1903'] + fhv['outflow_counts_1904'] + fhv['outflow_counts_h_1904']"
      ],
      "execution_count": 42,
      "outputs": []
    },
    {
      "cell_type": "code",
      "metadata": {
        "id": "ozcv8WZIzteE",
        "colab_type": "code",
        "colab": {}
      },
      "source": [
        "fhv['loop_counts'] = fhv['loop_counts_1901'] + fhv['loop_counts_1902'] + fhv['loop_counts_1903'] + fhv['loop_counts_h_1902'] + fhv['loop_counts_h_1903'] + fhv['loop_counts_1904'] + fhv['loop_counts_h_1904']"
      ],
      "execution_count": 43,
      "outputs": []
    },
    {
      "cell_type": "code",
      "metadata": {
        "id": "mqT3wbixzthN",
        "colab_type": "code",
        "colab": {}
      },
      "source": [
        "fhv.drop(['inflow_counts_1901', 'outflow_counts_1901', 'loop_counts_1901',\n",
        "       'inflow_counts_1902', 'outflow_counts_1902', 'loop_counts_1902',\n",
        "       'inflow_counts_h_1902', 'outflow_counts_h_1902', 'loop_counts_h_1902',\n",
        "       'inflow_counts_1903', 'outflow_counts_1903', 'loop_counts_1903',\n",
        "       'inflow_counts_h_1903', 'outflow_counts_h_1903', 'loop_counts_h_1903',\n",
        "       'inflow_counts_1904', 'outflow_counts_1904', 'loop_counts_1904',\n",
        "       'inflow_counts_h_1904', 'outflow_counts_h_1904', 'loop_counts_h_1904'], axis=1, inplace=True)"
      ],
      "execution_count": 44,
      "outputs": []
    },
    {
      "cell_type": "code",
      "metadata": {
        "id": "0_NdJSK0hYAM",
        "colab_type": "code",
        "colab": {}
      },
      "source": [
        "fhv['time'] = [x for (x,y) in fhv['map']]\n",
        "fhv['taxizoneID'] = [int(y) for (x,y) in fhv['map']]"
      ],
      "execution_count": 46,
      "outputs": []
    },
    {
      "cell_type": "code",
      "metadata": {
        "id": "yfvgGPmXhic8",
        "colab_type": "code",
        "colab": {}
      },
      "source": [
        "fhv['time'] = [datetime.strptime(x, '%Y-%m-%d %H:%M:%S') for x in fhv['time']]"
      ],
      "execution_count": 49,
      "outputs": []
    },
    {
      "cell_type": "code",
      "metadata": {
        "id": "QS-S6CjLpWQE",
        "colab_type": "code",
        "colab": {}
      },
      "source": [
        "fhv['hour'] = [x.hour for x in fhv['time']]\n",
        "fhv['weekday'] = fhv[['time']].apply(lambda x: datetime.strftime(x['time'], '%A'), axis=1)\n",
        "fhv['week'] = [x.isocalendar()[1] for x in fhv['time']]"
      ],
      "execution_count": 50,
      "outputs": []
    },
    {
      "cell_type": "code",
      "metadata": {
        "id": "K-riM-Q4pWTS",
        "colab_type": "code",
        "colab": {}
      },
      "source": [
        "def timebin(hour):\n",
        "    if hour == 20:\n",
        "        return 1\n",
        "    if hour == 21:\n",
        "        return 1\n",
        "    if hour == 22:\n",
        "        return 1\n",
        "    if hour == 23:\n",
        "        return 1\n",
        "    if hour == 0:\n",
        "        return 2\n",
        "    if hour == 1:\n",
        "        return 2\n",
        "    if hour == 2:\n",
        "        return 2\n",
        "    if hour == 3:\n",
        "        return 2\n",
        "    else:\n",
        "        return 0\n",
        "    \n",
        "hourgroups = {1:'8pm - 12am', \n",
        "              2: '12am - 4am', \n",
        "              0:'daytime'}"
      ],
      "execution_count": 51,
      "outputs": []
    },
    {
      "cell_type": "code",
      "metadata": {
        "id": "-a633w1ypWWp",
        "colab_type": "code",
        "colab": {}
      },
      "source": [
        "fhv['timegroup'] = fhv['hour'].apply(timebin)\n",
        "fhv['timegroupstr'] = fhv['timegroup'].map(hourgroups)"
      ],
      "execution_count": 52,
      "outputs": []
    },
    {
      "cell_type": "code",
      "metadata": {
        "id": "9nJ1X3OspyVy",
        "colab_type": "code",
        "colab": {
          "base_uri": "https://localhost:8080/",
          "height": 419
        },
        "outputId": "d6da6acf-5971-4a83-a28c-cc5b5e58ee9c"
      },
      "source": [
        "fhv"
      ],
      "execution_count": 53,
      "outputs": [
        {
          "output_type": "execute_result",
          "data": {
            "text/html": [
              "<div>\n",
              "<style scoped>\n",
              "    .dataframe tbody tr th:only-of-type {\n",
              "        vertical-align: middle;\n",
              "    }\n",
              "\n",
              "    .dataframe tbody tr th {\n",
              "        vertical-align: top;\n",
              "    }\n",
              "\n",
              "    .dataframe thead th {\n",
              "        text-align: right;\n",
              "    }\n",
              "</style>\n",
              "<table border=\"1\" class=\"dataframe\">\n",
              "  <thead>\n",
              "    <tr style=\"text-align: right;\">\n",
              "      <th></th>\n",
              "      <th>map</th>\n",
              "      <th>map2</th>\n",
              "      <th>inflow_counts</th>\n",
              "      <th>outflow_counts</th>\n",
              "      <th>loop_counts</th>\n",
              "      <th>time</th>\n",
              "      <th>taxizoneID</th>\n",
              "      <th>hour</th>\n",
              "      <th>weekday</th>\n",
              "      <th>week</th>\n",
              "      <th>timegroup</th>\n",
              "      <th>timegroupstr</th>\n",
              "    </tr>\n",
              "  </thead>\n",
              "  <tbody>\n",
              "    <tr>\n",
              "      <th>0</th>\n",
              "      <td>(2019-01-01 00:00:00, 1)</td>\n",
              "      <td>(2019-01-01 00, 1)</td>\n",
              "      <td>5.0</td>\n",
              "      <td>6.0</td>\n",
              "      <td>0.0</td>\n",
              "      <td>2019-01-01</td>\n",
              "      <td>1</td>\n",
              "      <td>0</td>\n",
              "      <td>Tuesday</td>\n",
              "      <td>1</td>\n",
              "      <td>2</td>\n",
              "      <td>12am - 4am</td>\n",
              "    </tr>\n",
              "    <tr>\n",
              "      <th>1</th>\n",
              "      <td>(2019-01-01 00:00:00, 2)</td>\n",
              "      <td>(2019-01-01 00, 2)</td>\n",
              "      <td>0.0</td>\n",
              "      <td>0.0</td>\n",
              "      <td>0.0</td>\n",
              "      <td>2019-01-01</td>\n",
              "      <td>2</td>\n",
              "      <td>0</td>\n",
              "      <td>Tuesday</td>\n",
              "      <td>1</td>\n",
              "      <td>2</td>\n",
              "      <td>12am - 4am</td>\n",
              "    </tr>\n",
              "    <tr>\n",
              "      <th>2</th>\n",
              "      <td>(2019-01-01 00:00:00, 3)</td>\n",
              "      <td>(2019-01-01 00, 3)</td>\n",
              "      <td>46.0</td>\n",
              "      <td>66.0</td>\n",
              "      <td>4.0</td>\n",
              "      <td>2019-01-01</td>\n",
              "      <td>3</td>\n",
              "      <td>0</td>\n",
              "      <td>Tuesday</td>\n",
              "      <td>1</td>\n",
              "      <td>2</td>\n",
              "      <td>12am - 4am</td>\n",
              "    </tr>\n",
              "    <tr>\n",
              "      <th>3</th>\n",
              "      <td>(2019-01-01 00:00:00, 4)</td>\n",
              "      <td>(2019-01-01 00, 4)</td>\n",
              "      <td>116.0</td>\n",
              "      <td>240.0</td>\n",
              "      <td>7.0</td>\n",
              "      <td>2019-01-01</td>\n",
              "      <td>4</td>\n",
              "      <td>0</td>\n",
              "      <td>Tuesday</td>\n",
              "      <td>1</td>\n",
              "      <td>2</td>\n",
              "      <td>12am - 4am</td>\n",
              "    </tr>\n",
              "    <tr>\n",
              "      <th>4</th>\n",
              "      <td>(2019-01-01 00:00:00, 5)</td>\n",
              "      <td>(2019-01-01 00, 5)</td>\n",
              "      <td>14.0</td>\n",
              "      <td>16.0</td>\n",
              "      <td>4.0</td>\n",
              "      <td>2019-01-01</td>\n",
              "      <td>5</td>\n",
              "      <td>0</td>\n",
              "      <td>Tuesday</td>\n",
              "      <td>1</td>\n",
              "      <td>2</td>\n",
              "      <td>12am - 4am</td>\n",
              "    </tr>\n",
              "    <tr>\n",
              "      <th>...</th>\n",
              "      <td>...</td>\n",
              "      <td>...</td>\n",
              "      <td>...</td>\n",
              "      <td>...</td>\n",
              "      <td>...</td>\n",
              "      <td>...</td>\n",
              "      <td>...</td>\n",
              "      <td>...</td>\n",
              "      <td>...</td>\n",
              "      <td>...</td>\n",
              "      <td>...</td>\n",
              "      <td>...</td>\n",
              "    </tr>\n",
              "    <tr>\n",
              "      <th>757698</th>\n",
              "      <td>(2019-05-01 00:00:00, 259)</td>\n",
              "      <td>(2019-05-01 00, 259)</td>\n",
              "      <td>19.0</td>\n",
              "      <td>0.0</td>\n",
              "      <td>0.0</td>\n",
              "      <td>2019-05-01</td>\n",
              "      <td>259</td>\n",
              "      <td>0</td>\n",
              "      <td>Wednesday</td>\n",
              "      <td>18</td>\n",
              "      <td>2</td>\n",
              "      <td>12am - 4am</td>\n",
              "    </tr>\n",
              "    <tr>\n",
              "      <th>757699</th>\n",
              "      <td>(2019-05-01 00:00:00, 260)</td>\n",
              "      <td>(2019-05-01 00, 260)</td>\n",
              "      <td>30.0</td>\n",
              "      <td>0.0</td>\n",
              "      <td>0.0</td>\n",
              "      <td>2019-05-01</td>\n",
              "      <td>260</td>\n",
              "      <td>0</td>\n",
              "      <td>Wednesday</td>\n",
              "      <td>18</td>\n",
              "      <td>2</td>\n",
              "      <td>12am - 4am</td>\n",
              "    </tr>\n",
              "    <tr>\n",
              "      <th>757700</th>\n",
              "      <td>(2019-05-01 00:00:00, 261)</td>\n",
              "      <td>(2019-05-01 00, 261)</td>\n",
              "      <td>18.0</td>\n",
              "      <td>0.0</td>\n",
              "      <td>0.0</td>\n",
              "      <td>2019-05-01</td>\n",
              "      <td>261</td>\n",
              "      <td>0</td>\n",
              "      <td>Wednesday</td>\n",
              "      <td>18</td>\n",
              "      <td>2</td>\n",
              "      <td>12am - 4am</td>\n",
              "    </tr>\n",
              "    <tr>\n",
              "      <th>757701</th>\n",
              "      <td>(2019-05-01 00:00:00, 262)</td>\n",
              "      <td>(2019-05-01 00, 262)</td>\n",
              "      <td>30.0</td>\n",
              "      <td>0.0</td>\n",
              "      <td>0.0</td>\n",
              "      <td>2019-05-01</td>\n",
              "      <td>262</td>\n",
              "      <td>0</td>\n",
              "      <td>Wednesday</td>\n",
              "      <td>18</td>\n",
              "      <td>2</td>\n",
              "      <td>12am - 4am</td>\n",
              "    </tr>\n",
              "    <tr>\n",
              "      <th>757702</th>\n",
              "      <td>(2019-05-01 00:00:00, 263)</td>\n",
              "      <td>(2019-05-01 00, 263)</td>\n",
              "      <td>43.0</td>\n",
              "      <td>0.0</td>\n",
              "      <td>0.0</td>\n",
              "      <td>2019-05-01</td>\n",
              "      <td>263</td>\n",
              "      <td>0</td>\n",
              "      <td>Wednesday</td>\n",
              "      <td>18</td>\n",
              "      <td>2</td>\n",
              "      <td>12am - 4am</td>\n",
              "    </tr>\n",
              "  </tbody>\n",
              "</table>\n",
              "<p>757703 rows × 12 columns</p>\n",
              "</div>"
            ],
            "text/plain": [
              "                               map  ... timegroupstr\n",
              "0         (2019-01-01 00:00:00, 1)  ...   12am - 4am\n",
              "1         (2019-01-01 00:00:00, 2)  ...   12am - 4am\n",
              "2         (2019-01-01 00:00:00, 3)  ...   12am - 4am\n",
              "3         (2019-01-01 00:00:00, 4)  ...   12am - 4am\n",
              "4         (2019-01-01 00:00:00, 5)  ...   12am - 4am\n",
              "...                            ...  ...          ...\n",
              "757698  (2019-05-01 00:00:00, 259)  ...   12am - 4am\n",
              "757699  (2019-05-01 00:00:00, 260)  ...   12am - 4am\n",
              "757700  (2019-05-01 00:00:00, 261)  ...   12am - 4am\n",
              "757701  (2019-05-01 00:00:00, 262)  ...   12am - 4am\n",
              "757702  (2019-05-01 00:00:00, 263)  ...   12am - 4am\n",
              "\n",
              "[757703 rows x 12 columns]"
            ]
          },
          "metadata": {
            "tags": []
          },
          "execution_count": 53
        }
      ]
    },
    {
      "cell_type": "code",
      "metadata": {
        "id": "3kZsE2z_00Dj",
        "colab_type": "code",
        "colab": {}
      },
      "source": [
        ""
      ],
      "execution_count": null,
      "outputs": []
    }
  ]
}